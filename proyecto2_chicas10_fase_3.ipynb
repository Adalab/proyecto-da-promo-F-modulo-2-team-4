{
 "cells": [
  {
   "cell_type": "code",
   "execution_count": null,
   "metadata": {},
   "outputs": [],
   "source": [
    "%pip install requests \n",
    "%pip install pandas\n",
    "%pip install selenium\n",
    "%pip install webdriver-manager\n",
    "%pip install tqdm"
   ]
  },
  {
   "cell_type": "code",
   "execution_count": null,
   "metadata": {},
   "outputs": [],
   "source": [
    "from selenium import webdriver\n",
    "from webdriver_manager.chrome import ChromeDriverManager\n",
    "from selenium.webdriver.common.keys import Keys\n",
    "from selenium.common.exceptions import NoSuchElementException\n",
    "from tqdm import tqdm\n",
    "from time import sleep\n",
    "import pandas as pd"
   ]
  },
  {
   "cell_type": "markdown",
   "metadata": {},
   "source": [
    "__________"
   ]
  },
  {
   "cell_type": "markdown",
   "metadata": {},
   "source": [
    "# SELENIUM: 10 Actrices/Actores por cada id pelis\n",
    "    WINDOWS WARNING\n",
    "    1. desconectar WSL\n",
    "    2. instalar los paquetes con !pip install ... (arriba los necesarios)\n",
    "    3. importar los módulos necesarios (en este caso, pandas y )"
   ]
  },
  {
   "cell_type": "code",
   "execution_count": null,
   "metadata": {},
   "outputs": [],
   "source": [
    "archivo = \"peliculas.csv\"\n",
    "\n",
    "dataframe = pd.read_csv(archivo)\n",
    "\n",
    "lista_pelis_API = dataframe['Id'].tolist()\n",
    "print (lista_pelis_API)\n",
    "print(len(lista_pelis_API))\n",
    "\n",
    "# cortamos la lista que es muy grande en listas de entre 150 y 300 elementos\n",
    "\n",
    "pelis_API_11 = lista_pelis_API [0:150] \n",
    "pelis_API_12 = lista_pelis_API [150:300] \n",
    "pelis_API_2 = lista_pelis_API [300:600] \n",
    "pelis_API_31 = lista_pelis_API [600:750] \n",
    "pelis_API_321 = lista_pelis_API [750:790] \n",
    "pelis_API_3221 = lista_pelis_API [790:791] \n",
    "pelis_API_322 = lista_pelis_API [791:900]\n",
    "pelis_API_41 = lista_pelis_API [900:1050] \n",
    "pelis_API_42 = lista_pelis_API [1050:1200]\n",
    "pelis_API_51 = lista_pelis_API [1200:1325]\n",
    "pelis_API_52 = lista_pelis_API [1325:1430]\n",
    "pelis_API_521 = lista_pelis_API [1430:1455]\n",
    "print(len(pelis_API_11)+len(pelis_API_12)+len(pelis_API_2)+len(pelis_API_31)+len(pelis_API_41)+len(pelis_API_51)+len(pelis_API_321)+len(pelis_API_322)+len(pelis_API_3221)+len(pelis_API_42)+len(pelis_API_52)+len(pelis_API_521))"
   ]
  },
  {
   "cell_type": "markdown",
   "metadata": {},
   "source": [
    "# 10 actores por película/corto\n",
    "    10 principales actores de cada una de las películas en fase II (se sacan de TODA la lista pelis_apis)"
   ]
  },
  {
   "cell_type": "code",
   "execution_count": null,
   "metadata": {},
   "outputs": [],
   "source": [
    "# FUNCION PARA SACAR 10 ACTORES POR CADA PELI/CORTO:\n",
    "\n",
    "def obtener_actores(pelis_API):\n",
    "    driver = webdriver.Chrome()\n",
    "    driver.maximize_window()\n",
    "    driver.get(\"https://www.imdb.com/\")\n",
    "\n",
    "    lista_tupla_actores = []\n",
    "    sleep(60)\n",
    "\n",
    "    for id_pel in tqdm(pelis_API):\n",
    "        lista_actores = []\n",
    "\n",
    "        # Entro en el id de la peli\n",
    "        driver.find_element(\"css selector\", \"#suggestion-search\").send_keys(id_pel, Keys.ENTER)\n",
    "        sleep(5)\n",
    "\n",
    "        try:\n",
    "            driver.find_element(\"css selector\", \"#__next > main > div > section.ipc-page-background.ipc-page-background--base.sc-304f99f6-0.eaRXHu > section > section > div.sc-66ec1b32-0.bGqWwh > div > div:nth-child(2) > ul > li:nth-child(1) > a\").click()\n",
    "            sleep(15)\n",
    "\n",
    "            for i in range(2, 12):\n",
    "                try:\n",
    "                    lista_actores.append(driver.find_element(\"css selector\", f'#fullcredits_content > table.cast_list > tbody > tr:nth-child({i}) > td:nth-child(2) > a').text)\n",
    "                except NoSuchElementException:\n",
    "                    lista_actores.append(\"Sin datos\")\n",
    "\n",
    "            lista_actores.append(id_pel)\n",
    "            lista_tupla_actores.append(tuple(lista_actores))\n",
    "            driver.back()\n",
    "\n",
    "        except NoSuchElementException:\n",
    "            for i in range(0, 10):\n",
    "                lista_actores.append(\"Sin datos\")\n",
    "\n",
    "            lista_actores.append(id_pel)\n",
    "            lista_tupla_actores.append(tuple(lista_actores))\n",
    "            driver.back()\n",
    "\n",
    "    driver.close()\n",
    "\n",
    "    # Convertimos a DataFrame\n",
    "    df = pd.DataFrame(lista_tupla_actores, columns=['Actor 1', 'Actor 2', 'Actor 3', 'Actor 4', 'Actor 5', 'Actor 6', 'Actor 7', 'Actor 8', 'Actor 9', 'Actor 10', 'Movie ID'])\n",
    "    \n",
    "    # Convertir a CSV\n",
    "    df.to_csv(\"lista_tupla_actores_Ro.csv\", index=False)\n"
   ]
  },
  {
   "cell_type": "code",
   "execution_count": null,
   "metadata": {},
   "outputs": [],
   "source": [
    "# Llamamos a la función con la lista de películas\n",
    "\n",
    "pelis_API = pelis_API_11  # Aquí ponemos la lista de Apis de la cual queremos extraer los datos . Ej: pelis_API_11 = lista_pelis_API [0:150] -> Las diferentes listas estan en la primera celda\n",
    "\n",
    "obtener_actores(pelis_API) "
   ]
  },
  {
   "cell_type": "markdown",
   "metadata": {},
   "source": [
    "# Unión de los csv"
   ]
  },
  {
   "cell_type": "code",
   "execution_count": null,
   "metadata": {},
   "outputs": [],
   "source": [
    "# 1- se leen los csv y se convierten a data frame\n",
    "\n",
    "lista_2 = pd.read_csv(\"lista_tupla_actores_2_Ro.csv\")\n",
    "lista_11 = pd.read_csv(\"lista_tupla_actores_11_Ro.csv\")\n",
    "lista_12 = pd.read_csv(\"lista_tupla_actores_12_Ro.csv\")\n",
    "lista_31 = pd.read_csv(\"lista_tupla_actores_31_Ro.csv\")\n",
    "lista_41 = pd.read_csv(\"lista_tupla_actores_41_Ro.csv\")\n",
    "lista_42 = pd.read_csv(\"lista_tupla_actores_42_Ro.csv\")\n",
    "lista_51 = pd.read_csv(\"lista_tupla_actores_51_Ro.csv\")\n",
    "lista_52 = pd.read_csv(\"lista_tupla_actores_52_Ro.csv\")\n",
    "lista_321 = pd.read_csv(\"lista_tupla_actores_321_Ro.csv\")\n",
    "lista_322 = pd.read_csv(\"lista_tupla_actores_322_Ro.csv\")\n",
    "lista_521 = pd.read_csv(\"lista_tupla_actores_521_Ro.csv\")\n",
    "lista_3221 = pd.read_csv(\"lista_tupla_actores_3221_Ro.csv\")\n",
    "\n",
    "# 2 - Se concatenan los datas frames\n",
    "\n",
    "lista_tupla_actores_agrupados = pd.concat([lista_2, lista_11, lista_12, lista_31, lista_41, lista_42, lista_51, lista_52, lista_321, lista_322, lista_521, lista_3221], axis=0, ignore_index=True)\n",
    "lista_tupla_actores_agrupados.head()\n",
    "\n",
    "# 3 - Se descarga un CSV con todos los datos agrupados\n",
    "lista_tupla_actores_agrupados.to_csv(\"lista_tupla_actores_agrupados.csv\", index=False)\n"
   ]
  },
  {
   "cell_type": "code",
   "execution_count": null,
   "metadata": {},
   "outputs": [],
   "source": [
    "#se crea el data frame:\n",
    "archivo2 = \"lista_tupla_actores_agrupados.csv\"\n",
    "\n",
    "df = pd.read_csv(archivo2)"
   ]
  },
  {
   "cell_type": "code",
   "execution_count": null,
   "metadata": {},
   "outputs": [],
   "source": [
    "# se unifican las 10 columnas de actores en una con su id_peli:\n",
    "MovieID_Act = pd.melt(df, id_vars=['Movie ID'], value_vars= ['Actor 1', 'Actor 2', 'Actor 3', 'Actor 4', 'Actor 5', 'Actor 6', 'Actor 7', 'Actor 8', 'Actor 9', 'Actor 10'], var_name='borrar', value_name='Actriz_Actor')\n",
    "\n",
    "# se borra la columna \"borrar\"\n",
    "MovieID_Act = MovieID_Act.drop(columns=['borrar'])\n",
    "MovieID_Act.head()\n",
    "\n",
    "# se convierte a .csv con sólo dos columnas\n",
    "# se quita la columna index:\n",
    "MovieID_Act.to_csv(\"pelicula_artista.csv\", index=False)"
   ]
  },
  {
   "cell_type": "markdown",
   "metadata": {},
   "source": [
    "Nota: teníamos en lista_tupla_actores_agrupados.csv 10 actores por película\n",
    "\n",
    "Para trabajar mejor en nuestra BBDD aplicamos la función **melt** (que derrite las columnas seleccionadas en una sola columna) De manera que agrupamos cada actor con id pelicula.\n",
    "\n",
    "Sobre esta se eliminaron duplicados con el SET\n",
    "\n",
    "El nuevo documento donde estan todos los datos agrupados  es **pelicula_artista.csv**"
   ]
  },
  {
   "cell_type": "markdown",
   "metadata": {},
   "source": [
    "________"
   ]
  },
  {
   "cell_type": "markdown",
   "metadata": {},
   "source": [
    "# Características de los actores "
   ]
  },
  {
   "cell_type": "code",
   "execution_count": null,
   "metadata": {},
   "outputs": [],
   "source": [
    "# Se crea una lista de actores sin duplicados\n",
    "archivo = \"pelicula_artista.csv\"\n",
    "dataframe = pd.read_csv(archivo)\n",
    "\n",
    "# Pasamos la columna actores a un set para eliminar duplicados\n",
    "set_act = set(dataframe['Actriz_Actor'])\n",
    "print(len(set_act))\n",
    "\n",
    "#pasamos a lista para iterar por posiciones en la lista\n",
    "lista_act = list(set_act)\n",
    "\n",
    "#pasamos a df por si se me va la lista\n",
    "df = pd.DataFrame(lista_act, columns=[\"actr\"])\n",
    "df.head()\n",
    "\n",
    "#convertimos a csv\n",
    "df.to_csv(\"lista_actores_unicos.csv\", index=False)\n",
    "print(len(lista_act))\n"
   ]
  },
  {
   "cell_type": "markdown",
   "metadata": {},
   "source": [
    "Del archivo pelicula_artista  se pasa a set la columa \"actr\", pero solo cogemos SET del actor. \n",
    "\n",
    "- Lo pasamos a csv por seguridad, para mantener los datos guardados y no perder variables. "
   ]
  },
  {
   "cell_type": "code",
   "execution_count": null,
   "metadata": {},
   "outputs": [],
   "source": [
    "# unificamos los ficheros .csv de las extracciones, para sacar el fichero .csv global\n",
    "import pandas as pd\n",
    "import glob\n",
    "\n",
    "# Especifico ruta y el patrón de los archivos CSV que deseas unir (los hemos nombrado igual, cambiando el rango de cada extracción)\n",
    "patron = r'C:\\Users\\rocio\\OneDrive\\Desktop\\Data_Analytics\\PROYECTOS\\proyecto-da-promo-F-modulo-2-team-4\\detall_actr_*.csv'\n",
    "\n",
    "# Obtiene la lista de archivos que coinciden con el patrón\n",
    "archivos = glob.glob(patron)\n",
    "\n",
    "# Lista para almacenar los DataFrames\n",
    "dataframes = []\n",
    "\n",
    "# Itera sobre la lista de archivos y lee cada archivo CSV in a DataFrame\n",
    "for archivo in archivos:\n",
    "    df = pd.read_csv(archivo)\n",
    "    dataframes.append(df)\n",
    "\n",
    "# Concatena todos los DataFrames almacenados en la lista\n",
    "detalles_artista = pd.concat(dataframes, ignore_index=True)\n",
    "\n",
    "# Guarda el DataFrame combinado en un nuevo archivo CSV\n",
    "detalles_artista.to_csv('detalles_artistas.csv', index=False)\n",
    "\n",
    "# Los csv \"detall_actr_se unifican en una lista única llamada \"detalles_artistas\"\n"
   ]
  },
  {
   "cell_type": "code",
   "execution_count": null,
   "metadata": {},
   "outputs": [],
   "source": [
    "# FUNCION PARA OBTENER LAS CARACTERÍSTICAS DE LOS ACTORES:\n",
    "\n",
    "\n",
    "from tqdm import tqdm\n",
    "import math\n",
    "def procesar_lista_actores(lista_act, intervalo=100):\n",
    "\n",
    "    driver = webdriver.Chrome()\n",
    "    driver.maximize_window()\n",
    "    driver.get(\"https://www.imdb.com/\")\n",
    "\n",
    "    lista_detalles_actores = []\n",
    "\n",
    "    # Calculamos el número total de iteraciones necesarias según el tamaño de la lista y el intervalo\n",
    "    iteraciones = math.ceil(len(lista_act) / intervalo)\n",
    "    for i in tqdm(range(iteraciones)):\n",
    "        inicio = i * intervalo\n",
    "        fin = (i + 1) * intervalo\n",
    "        fragmento_actores = lista_act[inicio:fin]\n",
    "        for actr in fragmento_actores:\n",
    "            lista_caracteristicas = []\n",
    "           \n",
    "    #búsqueda general en imdb\n",
    "    driver.find_element(\"css selector\", \"#suggestion-search\").send_keys(actr, Keys.ENTER)\n",
    "    sleep(5)\n",
    "    \n",
    "    #Abre la pagina del actor (selecciona el primer elemento de la búsqueda)\n",
    "    driver.find_element (\"css selector\", \"#__next > main > div.ipc-page-content-container.ipc-page-content-container--full.sc-872d7ac7-0.fqEQWL > div.ipc-page-content-container.ipc-page-content-container--center > section > div > div.ipc-page-grid__item.ipc-page-grid__item--span-2 > section:nth-child(3) > div.sc-17bafbdb-2.iUyFfD > ul > li:nth-child(1) > div.ipc-metadata-list-summary-item__c > div > a\").click()\n",
    "    sleep(5)\n",
    "    \n",
    "    #KNOWN FOR de la página principal los 4 primeros elementos: \n",
    "    conocido = []\n",
    "    \n",
    "    for i in range(1, 5):\n",
    "        try:                   \n",
    "            selector_xpath = f\"//*[@id='__next']/main/div/section[1]/div/section/div/div[1]/div[3]/section[1]/div[2]/div/div[2]/div[{i}]/div[2]/div[1]/a\"\n",
    "            conocido_por = driver.find_element(\"xpath\", selector_xpath).text\n",
    "            conocido.append(conocido_por)\n",
    "        except NoSuchElementException:\n",
    "            conocido.append(\"No hay datos sobre porqué es conocido\")\n",
    "    \n",
    "        # qué hace (actr, productor, director...):    \n",
    "        try:\n",
    "            que_hace = driver.find_element(\"css selector\", \"#__next > main > div > section.ipc-page-background.ipc-page-background--base.sc-304f99f6-0.fSJiHR > section > div:nth-child(4) > section > section > div.sc-e226b0e3-3.dwkouE > div > ul\").text.replace('\\n', \", \")                                                  \n",
    "        \n",
    "        except NoSuchElementException:\n",
    "            que_hace = \"Actr\"\n",
    "        \n",
    "        #PREMIOS de la página principal: aparece oscar si ha ganado, y cuántos, también nominaciones y otros premios y nominaciones sin detalles.      \n",
    "        try:\n",
    "            premios = driver.find_element(\"css selector\", \"#__next > main > div > section.ipc-page-background.ipc-page-background--base.sc-304f99f6-0.fSJiHR > div > section > div > div.sc-9178d6fe-1.fqVKQb.ipc-page-grid__item.ipc-page-grid__item--span-2 > section:nth-child(3) > div > ul\").text.replace(\"\\n\",\": \")\n",
    "        \n",
    "        except NoSuchElementException:\n",
    "            premios = \"no tiene premios\"     \n",
    "        \n",
    "        #AÑO DE NACIMIENTO: de la sección Biography\n",
    "        try:\n",
    "            driver.find_element(\"css selector\", \"#__next > main > div > section.ipc-page-background.ipc-page-background--base.sc-304f99f6-0.fSJiHR > section > div:nth-child(4) > section > section > div.sc-66ec1b32-0.kbbKze > div > div:nth-child(2) > ul > li:nth-child(1) > a\").click()\n",
    "            sleep(10)\n",
    "            \n",
    "            try:\n",
    "                año = driver.find_element(\"css selector\", \"#born > div > div > div > a:nth-child(2)\").text\n",
    "            except NoSuchElementException:\n",
    "                año = \"9999\"\n",
    "        \n",
    "        except NoSuchElementException:\n",
    "                año = \"9999\"\n",
    "\n",
    "\n",
    "# añadimos las características recopiladas en la lista_caracteristicas\n",
    "\n",
    "    lista_caracteristicas.append(actr)\n",
    "    lista_caracteristicas.append(año) #año nacimiento\n",
    "    lista_caracteristicas.append(tuple(conocido)) # conocido por X pelis\n",
    "    lista_caracteristicas.append(que_hace) # es Actor( Director/ guionista....)\n",
    "    lista_caracteristicas.append(premios)\n",
    "\n",
    "\n",
    "\n",
    "\n",
    "\n",
    "\n",
    "    # Después de recopilar los detalles, agregamos la lista_caracteristicas a la lista_detalles_actores\n",
    "    lista_detalles_actores.append(lista_caracteristicas)\n",
    "    return lista_detalles_actores\n",
    "# Suponiendo que lista_act contiene los nombres de los actores\n",
    "\n"
   ]
  },
  {
   "cell_type": "code",
   "execution_count": null,
   "metadata": {},
   "outputs": [],
   "source": [
    "# LLAMAMOS A LA FUNCIÓN:\n",
    "\n",
    "# Nos interesa que se descarguen los elentos de 100 en 100 por la lentitud en la descarga.\n",
    "\n",
    "# Llamamos a la función pasando la lista_act y el intervalo deseado\n",
    "detalles_actores = procesar_lista_actores(lista_act)"
   ]
  }
 ],
 "metadata": {
  "kernelspec": {
   "display_name": "base",
   "language": "python",
   "name": "python3"
  },
  "language_info": {
   "codemirror_mode": {
    "name": "ipython",
    "version": 3
   },
   "file_extension": ".py",
   "mimetype": "text/x-python",
   "name": "python",
   "nbconvert_exporter": "python",
   "pygments_lexer": "ipython3",
   "version": "3.9.7"
  }
 },
 "nbformat": 4,
 "nbformat_minor": 2
}
