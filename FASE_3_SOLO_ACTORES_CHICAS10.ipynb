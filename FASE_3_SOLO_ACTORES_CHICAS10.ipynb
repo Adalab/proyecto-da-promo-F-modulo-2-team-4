{
 "cells": [
  {
   "cell_type": "code",
   "execution_count": 8,
   "metadata": {},
   "outputs": [
    {
     "name": "stdout",
     "output_type": "stream",
     "text": [
      "Requirement already satisfied: requests in c:\\users\\rocio\\appdata\\local\\packages\\pythonsoftwarefoundation.python.3.11_qbz5n2kfra8p0\\localcache\\local-packages\\python311\\site-packages (2.31.0)\n",
      "Requirement already satisfied: charset-normalizer<4,>=2 in c:\\users\\rocio\\appdata\\local\\packages\\pythonsoftwarefoundation.python.3.11_qbz5n2kfra8p0\\localcache\\local-packages\\python311\\site-packages (from requests) (3.3.1)\n",
      "Requirement already satisfied: idna<4,>=2.5 in c:\\users\\rocio\\appdata\\local\\packages\\pythonsoftwarefoundation.python.3.11_qbz5n2kfra8p0\\localcache\\local-packages\\python311\\site-packages (from requests) (3.4)\n",
      "Requirement already satisfied: urllib3<3,>=1.21.1 in c:\\users\\rocio\\appdata\\local\\packages\\pythonsoftwarefoundation.python.3.11_qbz5n2kfra8p0\\localcache\\local-packages\\python311\\site-packages (from requests) (2.0.7)\n",
      "Requirement already satisfied: certifi>=2017.4.17 in c:\\users\\rocio\\appdata\\local\\packages\\pythonsoftwarefoundation.python.3.11_qbz5n2kfra8p0\\localcache\\local-packages\\python311\\site-packages (from requests) (2023.7.22)\n",
      "Requirement already satisfied: pandas in c:\\users\\rocio\\appdata\\local\\packages\\pythonsoftwarefoundation.python.3.11_qbz5n2kfra8p0\\localcache\\local-packages\\python311\\site-packages (2.1.2)\n",
      "Requirement already satisfied: numpy<2,>=1.23.2 in c:\\users\\rocio\\appdata\\local\\packages\\pythonsoftwarefoundation.python.3.11_qbz5n2kfra8p0\\localcache\\local-packages\\python311\\site-packages (from pandas) (1.26.1)\n",
      "Requirement already satisfied: python-dateutil>=2.8.2 in c:\\users\\rocio\\appdata\\local\\packages\\pythonsoftwarefoundation.python.3.11_qbz5n2kfra8p0\\localcache\\local-packages\\python311\\site-packages (from pandas) (2.8.2)\n",
      "Requirement already satisfied: pytz>=2020.1 in c:\\users\\rocio\\appdata\\local\\packages\\pythonsoftwarefoundation.python.3.11_qbz5n2kfra8p0\\localcache\\local-packages\\python311\\site-packages (from pandas) (2023.3.post1)\n",
      "Requirement already satisfied: tzdata>=2022.1 in c:\\users\\rocio\\appdata\\local\\packages\\pythonsoftwarefoundation.python.3.11_qbz5n2kfra8p0\\localcache\\local-packages\\python311\\site-packages (from pandas) (2023.3)\n",
      "Requirement already satisfied: six>=1.5 in c:\\users\\rocio\\appdata\\local\\packages\\pythonsoftwarefoundation.python.3.11_qbz5n2kfra8p0\\localcache\\local-packages\\python311\\site-packages (from python-dateutil>=2.8.2->pandas) (1.16.0)\n",
      "Requirement already satisfied: selenium in c:\\users\\rocio\\appdata\\local\\packages\\pythonsoftwarefoundation.python.3.11_qbz5n2kfra8p0\\localcache\\local-packages\\python311\\site-packages (4.14.0)\n",
      "Requirement already satisfied: urllib3<3,>=1.26 in c:\\users\\rocio\\appdata\\local\\packages\\pythonsoftwarefoundation.python.3.11_qbz5n2kfra8p0\\localcache\\local-packages\\python311\\site-packages (from urllib3[socks]<3,>=1.26->selenium) (2.0.7)\n",
      "Requirement already satisfied: trio~=0.17 in c:\\users\\rocio\\appdata\\local\\packages\\pythonsoftwarefoundation.python.3.11_qbz5n2kfra8p0\\localcache\\local-packages\\python311\\site-packages (from selenium) (0.22.2)\n",
      "Requirement already satisfied: trio-websocket~=0.9 in c:\\users\\rocio\\appdata\\local\\packages\\pythonsoftwarefoundation.python.3.11_qbz5n2kfra8p0\\localcache\\local-packages\\python311\\site-packages (from selenium) (0.11.1)\n",
      "Requirement already satisfied: certifi>=2021.10.8 in c:\\users\\rocio\\appdata\\local\\packages\\pythonsoftwarefoundation.python.3.11_qbz5n2kfra8p0\\localcache\\local-packages\\python311\\site-packages (from selenium) (2023.7.22)\n",
      "Requirement already satisfied: attrs>=20.1.0 in c:\\users\\rocio\\appdata\\local\\packages\\pythonsoftwarefoundation.python.3.11_qbz5n2kfra8p0\\localcache\\local-packages\\python311\\site-packages (from trio~=0.17->selenium) (23.1.0)\n",
      "Requirement already satisfied: sortedcontainers in c:\\users\\rocio\\appdata\\local\\packages\\pythonsoftwarefoundation.python.3.11_qbz5n2kfra8p0\\localcache\\local-packages\\python311\\site-packages (from trio~=0.17->selenium) (2.4.0)\n",
      "Requirement already satisfied: idna in c:\\users\\rocio\\appdata\\local\\packages\\pythonsoftwarefoundation.python.3.11_qbz5n2kfra8p0\\localcache\\local-packages\\python311\\site-packages (from trio~=0.17->selenium) (3.4)\n",
      "Requirement already satisfied: outcome in c:\\users\\rocio\\appdata\\local\\packages\\pythonsoftwarefoundation.python.3.11_qbz5n2kfra8p0\\localcache\\local-packages\\python311\\site-packages (from trio~=0.17->selenium) (1.3.0.post0)\n",
      "Requirement already satisfied: sniffio in c:\\users\\rocio\\appdata\\local\\packages\\pythonsoftwarefoundation.python.3.11_qbz5n2kfra8p0\\localcache\\local-packages\\python311\\site-packages (from trio~=0.17->selenium) (1.3.0)\n",
      "Requirement already satisfied: cffi>=1.14 in c:\\users\\rocio\\appdata\\local\\packages\\pythonsoftwarefoundation.python.3.11_qbz5n2kfra8p0\\localcache\\local-packages\\python311\\site-packages (from trio~=0.17->selenium) (1.16.0)\n",
      "Requirement already satisfied: wsproto>=0.14 in c:\\users\\rocio\\appdata\\local\\packages\\pythonsoftwarefoundation.python.3.11_qbz5n2kfra8p0\\localcache\\local-packages\\python311\\site-packages (from trio-websocket~=0.9->selenium) (1.2.0)\n",
      "Requirement already satisfied: pysocks!=1.5.7,<2.0,>=1.5.6 in c:\\users\\rocio\\appdata\\local\\packages\\pythonsoftwarefoundation.python.3.11_qbz5n2kfra8p0\\localcache\\local-packages\\python311\\site-packages (from urllib3[socks]<3,>=1.26->selenium) (1.7.1)\n",
      "Requirement already satisfied: pycparser in c:\\users\\rocio\\appdata\\local\\packages\\pythonsoftwarefoundation.python.3.11_qbz5n2kfra8p0\\localcache\\local-packages\\python311\\site-packages (from cffi>=1.14->trio~=0.17->selenium) (2.21)\n",
      "Requirement already satisfied: h11<1,>=0.9.0 in c:\\users\\rocio\\appdata\\local\\packages\\pythonsoftwarefoundation.python.3.11_qbz5n2kfra8p0\\localcache\\local-packages\\python311\\site-packages (from wsproto>=0.14->trio-websocket~=0.9->selenium) (0.14.0)\n",
      "Requirement already satisfied: webdriver-manager in c:\\users\\rocio\\appdata\\local\\packages\\pythonsoftwarefoundation.python.3.11_qbz5n2kfra8p0\\localcache\\local-packages\\python311\\site-packages (4.0.1)\n",
      "Requirement already satisfied: requests in c:\\users\\rocio\\appdata\\local\\packages\\pythonsoftwarefoundation.python.3.11_qbz5n2kfra8p0\\localcache\\local-packages\\python311\\site-packages (from webdriver-manager) (2.31.0)\n",
      "Requirement already satisfied: python-dotenv in c:\\users\\rocio\\appdata\\local\\packages\\pythonsoftwarefoundation.python.3.11_qbz5n2kfra8p0\\localcache\\local-packages\\python311\\site-packages (from webdriver-manager) (1.0.0)\n",
      "Requirement already satisfied: packaging in c:\\users\\rocio\\appdata\\local\\packages\\pythonsoftwarefoundation.python.3.11_qbz5n2kfra8p0\\localcache\\local-packages\\python311\\site-packages (from webdriver-manager) (23.2)\n",
      "Requirement already satisfied: charset-normalizer<4,>=2 in c:\\users\\rocio\\appdata\\local\\packages\\pythonsoftwarefoundation.python.3.11_qbz5n2kfra8p0\\localcache\\local-packages\\python311\\site-packages (from requests->webdriver-manager) (3.3.1)\n",
      "Requirement already satisfied: idna<4,>=2.5 in c:\\users\\rocio\\appdata\\local\\packages\\pythonsoftwarefoundation.python.3.11_qbz5n2kfra8p0\\localcache\\local-packages\\python311\\site-packages (from requests->webdriver-manager) (3.4)\n",
      "Requirement already satisfied: urllib3<3,>=1.21.1 in c:\\users\\rocio\\appdata\\local\\packages\\pythonsoftwarefoundation.python.3.11_qbz5n2kfra8p0\\localcache\\local-packages\\python311\\site-packages (from requests->webdriver-manager) (2.0.7)\n",
      "Requirement already satisfied: certifi>=2017.4.17 in c:\\users\\rocio\\appdata\\local\\packages\\pythonsoftwarefoundation.python.3.11_qbz5n2kfra8p0\\localcache\\local-packages\\python311\\site-packages (from requests->webdriver-manager) (2023.7.22)\n",
      "Requirement already satisfied: tqdm in c:\\users\\rocio\\appdata\\local\\packages\\pythonsoftwarefoundation.python.3.11_qbz5n2kfra8p0\\localcache\\local-packages\\python311\\site-packages (4.66.1)\n",
      "Requirement already satisfied: colorama in c:\\users\\rocio\\appdata\\local\\packages\\pythonsoftwarefoundation.python.3.11_qbz5n2kfra8p0\\localcache\\local-packages\\python311\\site-packages (from tqdm) (0.4.6)\n"
     ]
    }
   ],
   "source": [
    "!pip install requests \n",
    "!pip install pandas\n",
    "!pip install selenium\n",
    "!pip install webdriver-manager\n",
    "!pip install tqdm"
   ]
  },
  {
   "cell_type": "markdown",
   "metadata": {},
   "source": [
    "__________"
   ]
  },
  {
   "cell_type": "markdown",
   "metadata": {},
   "source": [
    "# SELENIUM: 10 Actrices/Actores por cada id pelis\n",
    "    WINDOWS WARNING\n",
    "    1. desconectar WSL\n",
    "    2. instalar los paquetes con !pip install ... (arriba los necesarios)\n",
    "    3. importar los módulos necesarios (en este caso, pandas)"
   ]
  },
  {
   "cell_type": "code",
   "execution_count": null,
   "metadata": {},
   "outputs": [],
   "source": [
    "#he borrado el código de APIs para poder trabajar con SELENIUM en WINDOWS (el output lo tenemos en el .csv)\n",
    "#fichero FaseI_datos_API_final.csv"
   ]
  },
  {
   "cell_type": "code",
   "execution_count": 7,
   "metadata": {},
   "outputs": [
    {
     "ename": "FileNotFoundError",
     "evalue": "[Errno 2] No such file or directory: 'FaseI_datos_API_final.csv'",
     "output_type": "error",
     "traceback": [
      "\u001b[1;31m---------------------------------------------------------------------------\u001b[0m",
      "\u001b[1;31mFileNotFoundError\u001b[0m                         Traceback (most recent call last)",
      "\u001b[1;32mc:\\Users\\rocio\\OneDrive\\Desktop\\Data_Analytics\\PROYECTOS\\FASE_3_SOLO_ACTORES_CHICAS10.ipynb Cell 5\u001b[0m line \u001b[0;36m5\n\u001b[0;32m      <a href='vscode-notebook-cell:/c%3A/Users/rocio/OneDrive/Desktop/Data_Analytics/PROYECTOS/FASE_3_SOLO_ACTORES_CHICAS10.ipynb#W4sZmlsZQ%3D%3D?line=0'>1</a>\u001b[0m \u001b[39mimport\u001b[39;00m \u001b[39mpandas\u001b[39;00m \u001b[39mas\u001b[39;00m \u001b[39mpd\u001b[39;00m\n\u001b[0;32m      <a href='vscode-notebook-cell:/c%3A/Users/rocio/OneDrive/Desktop/Data_Analytics/PROYECTOS/FASE_3_SOLO_ACTORES_CHICAS10.ipynb#W4sZmlsZQ%3D%3D?line=2'>3</a>\u001b[0m archivo \u001b[39m=\u001b[39m \u001b[39m\"\u001b[39m\u001b[39mFaseI_datos_API_final.csv\u001b[39m\u001b[39m\"\u001b[39m\n\u001b[1;32m----> <a href='vscode-notebook-cell:/c%3A/Users/rocio/OneDrive/Desktop/Data_Analytics/PROYECTOS/FASE_3_SOLO_ACTORES_CHICAS10.ipynb#W4sZmlsZQ%3D%3D?line=4'>5</a>\u001b[0m dataframe \u001b[39m=\u001b[39m pd\u001b[39m.\u001b[39;49mread_csv(archivo)\n\u001b[0;32m      <a href='vscode-notebook-cell:/c%3A/Users/rocio/OneDrive/Desktop/Data_Analytics/PROYECTOS/FASE_3_SOLO_ACTORES_CHICAS10.ipynb#W4sZmlsZQ%3D%3D?line=6'>7</a>\u001b[0m lista_pelis_API \u001b[39m=\u001b[39m dataframe[\u001b[39m'\u001b[39m\u001b[39mId\u001b[39m\u001b[39m'\u001b[39m]\u001b[39m.\u001b[39mtolist()\n\u001b[0;32m      <a href='vscode-notebook-cell:/c%3A/Users/rocio/OneDrive/Desktop/Data_Analytics/PROYECTOS/FASE_3_SOLO_ACTORES_CHICAS10.ipynb#W4sZmlsZQ%3D%3D?line=7'>8</a>\u001b[0m \u001b[39mprint\u001b[39m (lista_pelis_API)\n",
      "File \u001b[1;32m~\\AppData\\Local\\Packages\\PythonSoftwareFoundation.Python.3.11_qbz5n2kfra8p0\\LocalCache\\local-packages\\Python311\\site-packages\\pandas\\io\\parsers\\readers.py:948\u001b[0m, in \u001b[0;36mread_csv\u001b[1;34m(filepath_or_buffer, sep, delimiter, header, names, index_col, usecols, dtype, engine, converters, true_values, false_values, skipinitialspace, skiprows, skipfooter, nrows, na_values, keep_default_na, na_filter, verbose, skip_blank_lines, parse_dates, infer_datetime_format, keep_date_col, date_parser, date_format, dayfirst, cache_dates, iterator, chunksize, compression, thousands, decimal, lineterminator, quotechar, quoting, doublequote, escapechar, comment, encoding, encoding_errors, dialect, on_bad_lines, delim_whitespace, low_memory, memory_map, float_precision, storage_options, dtype_backend)\u001b[0m\n\u001b[0;32m    935\u001b[0m kwds_defaults \u001b[39m=\u001b[39m _refine_defaults_read(\n\u001b[0;32m    936\u001b[0m     dialect,\n\u001b[0;32m    937\u001b[0m     delimiter,\n\u001b[1;32m   (...)\u001b[0m\n\u001b[0;32m    944\u001b[0m     dtype_backend\u001b[39m=\u001b[39mdtype_backend,\n\u001b[0;32m    945\u001b[0m )\n\u001b[0;32m    946\u001b[0m kwds\u001b[39m.\u001b[39mupdate(kwds_defaults)\n\u001b[1;32m--> 948\u001b[0m \u001b[39mreturn\u001b[39;00m _read(filepath_or_buffer, kwds)\n",
      "File \u001b[1;32m~\\AppData\\Local\\Packages\\PythonSoftwareFoundation.Python.3.11_qbz5n2kfra8p0\\LocalCache\\local-packages\\Python311\\site-packages\\pandas\\io\\parsers\\readers.py:611\u001b[0m, in \u001b[0;36m_read\u001b[1;34m(filepath_or_buffer, kwds)\u001b[0m\n\u001b[0;32m    608\u001b[0m _validate_names(kwds\u001b[39m.\u001b[39mget(\u001b[39m\"\u001b[39m\u001b[39mnames\u001b[39m\u001b[39m\"\u001b[39m, \u001b[39mNone\u001b[39;00m))\n\u001b[0;32m    610\u001b[0m \u001b[39m# Create the parser.\u001b[39;00m\n\u001b[1;32m--> 611\u001b[0m parser \u001b[39m=\u001b[39m TextFileReader(filepath_or_buffer, \u001b[39m*\u001b[39;49m\u001b[39m*\u001b[39;49mkwds)\n\u001b[0;32m    613\u001b[0m \u001b[39mif\u001b[39;00m chunksize \u001b[39mor\u001b[39;00m iterator:\n\u001b[0;32m    614\u001b[0m     \u001b[39mreturn\u001b[39;00m parser\n",
      "File \u001b[1;32m~\\AppData\\Local\\Packages\\PythonSoftwareFoundation.Python.3.11_qbz5n2kfra8p0\\LocalCache\\local-packages\\Python311\\site-packages\\pandas\\io\\parsers\\readers.py:1448\u001b[0m, in \u001b[0;36mTextFileReader.__init__\u001b[1;34m(self, f, engine, **kwds)\u001b[0m\n\u001b[0;32m   1445\u001b[0m     \u001b[39mself\u001b[39m\u001b[39m.\u001b[39moptions[\u001b[39m\"\u001b[39m\u001b[39mhas_index_names\u001b[39m\u001b[39m\"\u001b[39m] \u001b[39m=\u001b[39m kwds[\u001b[39m\"\u001b[39m\u001b[39mhas_index_names\u001b[39m\u001b[39m\"\u001b[39m]\n\u001b[0;32m   1447\u001b[0m \u001b[39mself\u001b[39m\u001b[39m.\u001b[39mhandles: IOHandles \u001b[39m|\u001b[39m \u001b[39mNone\u001b[39;00m \u001b[39m=\u001b[39m \u001b[39mNone\u001b[39;00m\n\u001b[1;32m-> 1448\u001b[0m \u001b[39mself\u001b[39m\u001b[39m.\u001b[39m_engine \u001b[39m=\u001b[39m \u001b[39mself\u001b[39;49m\u001b[39m.\u001b[39;49m_make_engine(f, \u001b[39mself\u001b[39;49m\u001b[39m.\u001b[39;49mengine)\n",
      "File \u001b[1;32m~\\AppData\\Local\\Packages\\PythonSoftwareFoundation.Python.3.11_qbz5n2kfra8p0\\LocalCache\\local-packages\\Python311\\site-packages\\pandas\\io\\parsers\\readers.py:1705\u001b[0m, in \u001b[0;36mTextFileReader._make_engine\u001b[1;34m(self, f, engine)\u001b[0m\n\u001b[0;32m   1703\u001b[0m     \u001b[39mif\u001b[39;00m \u001b[39m\"\u001b[39m\u001b[39mb\u001b[39m\u001b[39m\"\u001b[39m \u001b[39mnot\u001b[39;00m \u001b[39min\u001b[39;00m mode:\n\u001b[0;32m   1704\u001b[0m         mode \u001b[39m+\u001b[39m\u001b[39m=\u001b[39m \u001b[39m\"\u001b[39m\u001b[39mb\u001b[39m\u001b[39m\"\u001b[39m\n\u001b[1;32m-> 1705\u001b[0m \u001b[39mself\u001b[39m\u001b[39m.\u001b[39mhandles \u001b[39m=\u001b[39m get_handle(\n\u001b[0;32m   1706\u001b[0m     f,\n\u001b[0;32m   1707\u001b[0m     mode,\n\u001b[0;32m   1708\u001b[0m     encoding\u001b[39m=\u001b[39;49m\u001b[39mself\u001b[39;49m\u001b[39m.\u001b[39;49moptions\u001b[39m.\u001b[39;49mget(\u001b[39m\"\u001b[39;49m\u001b[39mencoding\u001b[39;49m\u001b[39m\"\u001b[39;49m, \u001b[39mNone\u001b[39;49;00m),\n\u001b[0;32m   1709\u001b[0m     compression\u001b[39m=\u001b[39;49m\u001b[39mself\u001b[39;49m\u001b[39m.\u001b[39;49moptions\u001b[39m.\u001b[39;49mget(\u001b[39m\"\u001b[39;49m\u001b[39mcompression\u001b[39;49m\u001b[39m\"\u001b[39;49m, \u001b[39mNone\u001b[39;49;00m),\n\u001b[0;32m   1710\u001b[0m     memory_map\u001b[39m=\u001b[39;49m\u001b[39mself\u001b[39;49m\u001b[39m.\u001b[39;49moptions\u001b[39m.\u001b[39;49mget(\u001b[39m\"\u001b[39;49m\u001b[39mmemory_map\u001b[39;49m\u001b[39m\"\u001b[39;49m, \u001b[39mFalse\u001b[39;49;00m),\n\u001b[0;32m   1711\u001b[0m     is_text\u001b[39m=\u001b[39;49mis_text,\n\u001b[0;32m   1712\u001b[0m     errors\u001b[39m=\u001b[39;49m\u001b[39mself\u001b[39;49m\u001b[39m.\u001b[39;49moptions\u001b[39m.\u001b[39;49mget(\u001b[39m\"\u001b[39;49m\u001b[39mencoding_errors\u001b[39;49m\u001b[39m\"\u001b[39;49m, \u001b[39m\"\u001b[39;49m\u001b[39mstrict\u001b[39;49m\u001b[39m\"\u001b[39;49m),\n\u001b[0;32m   1713\u001b[0m     storage_options\u001b[39m=\u001b[39;49m\u001b[39mself\u001b[39;49m\u001b[39m.\u001b[39;49moptions\u001b[39m.\u001b[39;49mget(\u001b[39m\"\u001b[39;49m\u001b[39mstorage_options\u001b[39;49m\u001b[39m\"\u001b[39;49m, \u001b[39mNone\u001b[39;49;00m),\n\u001b[0;32m   1714\u001b[0m )\n\u001b[0;32m   1715\u001b[0m \u001b[39massert\u001b[39;00m \u001b[39mself\u001b[39m\u001b[39m.\u001b[39mhandles \u001b[39mis\u001b[39;00m \u001b[39mnot\u001b[39;00m \u001b[39mNone\u001b[39;00m\n\u001b[0;32m   1716\u001b[0m f \u001b[39m=\u001b[39m \u001b[39mself\u001b[39m\u001b[39m.\u001b[39mhandles\u001b[39m.\u001b[39mhandle\n",
      "File \u001b[1;32m~\\AppData\\Local\\Packages\\PythonSoftwareFoundation.Python.3.11_qbz5n2kfra8p0\\LocalCache\\local-packages\\Python311\\site-packages\\pandas\\io\\common.py:863\u001b[0m, in \u001b[0;36mget_handle\u001b[1;34m(path_or_buf, mode, encoding, compression, memory_map, is_text, errors, storage_options)\u001b[0m\n\u001b[0;32m    858\u001b[0m \u001b[39melif\u001b[39;00m \u001b[39misinstance\u001b[39m(handle, \u001b[39mstr\u001b[39m):\n\u001b[0;32m    859\u001b[0m     \u001b[39m# Check whether the filename is to be opened in binary mode.\u001b[39;00m\n\u001b[0;32m    860\u001b[0m     \u001b[39m# Binary mode does not support 'encoding' and 'newline'.\u001b[39;00m\n\u001b[0;32m    861\u001b[0m     \u001b[39mif\u001b[39;00m ioargs\u001b[39m.\u001b[39mencoding \u001b[39mand\u001b[39;00m \u001b[39m\"\u001b[39m\u001b[39mb\u001b[39m\u001b[39m\"\u001b[39m \u001b[39mnot\u001b[39;00m \u001b[39min\u001b[39;00m ioargs\u001b[39m.\u001b[39mmode:\n\u001b[0;32m    862\u001b[0m         \u001b[39m# Encoding\u001b[39;00m\n\u001b[1;32m--> 863\u001b[0m         handle \u001b[39m=\u001b[39m \u001b[39mopen\u001b[39;49m(\n\u001b[0;32m    864\u001b[0m             handle,\n\u001b[0;32m    865\u001b[0m             ioargs\u001b[39m.\u001b[39;49mmode,\n\u001b[0;32m    866\u001b[0m             encoding\u001b[39m=\u001b[39;49mioargs\u001b[39m.\u001b[39;49mencoding,\n\u001b[0;32m    867\u001b[0m             errors\u001b[39m=\u001b[39;49merrors,\n\u001b[0;32m    868\u001b[0m             newline\u001b[39m=\u001b[39;49m\u001b[39m\"\u001b[39;49m\u001b[39m\"\u001b[39;49m,\n\u001b[0;32m    869\u001b[0m         )\n\u001b[0;32m    870\u001b[0m     \u001b[39melse\u001b[39;00m:\n\u001b[0;32m    871\u001b[0m         \u001b[39m# Binary mode\u001b[39;00m\n\u001b[0;32m    872\u001b[0m         handle \u001b[39m=\u001b[39m \u001b[39mopen\u001b[39m(handle, ioargs\u001b[39m.\u001b[39mmode)\n",
      "\u001b[1;31mFileNotFoundError\u001b[0m: [Errno 2] No such file or directory: 'FaseI_datos_API_final.csv'"
     ]
    }
   ],
   "source": [
    "import pandas as pd\n",
    "\n",
    "archivo = \"FaseI_datos_API_final.csv\"\n",
    "\n",
    "dataframe = pd.read_csv(archivo)\n",
    "\n",
    "lista_pelis_API = dataframe['Id'].tolist()\n",
    "print (lista_pelis_API)\n",
    "print(len(lista_pelis_API))\n",
    "\n",
    "# corto la lista que es muy grande en listas de 300 elementos\n",
    "\n",
    "pelis_API_1 = lista_pelis_API [0:300]   #1 hora\n",
    "pelis_API_2 = lista_pelis_API [300:600] #1 hora\n",
    "pelis_API_3 = lista_pelis_API [600:900] #1 hora\n",
    "pelis_API_4 = lista_pelis_API [900:1200] #1 hora\n",
    "pelis_API_5 = lista_pelis_API [1200:1455] # <1 hora\n",
    "print(len(pelis_API_1))\n",
    "print(len(pelis_API_2))\n",
    "print(len(pelis_API_3))\n",
    "print(len(pelis_API_4))\n",
    "print(len(pelis_API_5))"
   ]
  },
  {
   "cell_type": "markdown",
   "metadata": {},
   "source": [
    "# 10 actores por película/corto\n",
    "    10 principales actores de cada una de las películas en fase II (los saco de TODA la lista pelis_apis)"
   ]
  },
  {
   "cell_type": "code",
   "execution_count": null,
   "metadata": {},
   "outputs": [],
   "source": [
    "#ejemplo de peli(corto/drama) donde NO hay 10 actores tt10018590"
   ]
  },
  {
   "cell_type": "code",
   "execution_count": 4,
   "metadata": {},
   "outputs": [],
   "source": [
    "from selenium import webdriver\n",
    "from webdriver_manager.chrome import ChromeDriverManager\n",
    "from selenium.webdriver.common.keys import Keys\n",
    "from tqdm import tqdm\n",
    "from time import sleep"
   ]
  },
  {
   "cell_type": "code",
   "execution_count": 7,
   "metadata": {},
   "outputs": [
    {
     "name": "stderr",
     "output_type": "stream",
     "text": [
      "100%|██████████| 300/300 [2:18:26<00:00, 27.69s/it]  \n"
     ]
    }
   ],
   "source": [
    "# pelis_API_1\n",
    "\n",
    "driver = webdriver.Chrome()\n",
    "\n",
    "driver.maximize_window()\n",
    "\n",
    "driver.get(\"https://www.imdb.com/\")\n",
    "\n",
    "lista_tupla_actores_1 = []\n",
    "sleep(5)\n",
    "\n",
    "for id_pel in tqdm(pelis_API_1):   #lo saco directamente de la lista API de arriba #(antes: tenemos la info de la ID en el índice 4 ---> la posicion en el CSV-> debe estar en posición 5)\n",
    "    driver.find_element(\"css selector\", \"#suggestion-search\").send_keys(id_pel, Keys.ENTER)\n",
    "    sleep(5)\n",
    "   \n",
    "    driver.find_element (\"css selector\", \"#__next > main > div > section.ipc-page-background.ipc-page-background--base.sc-304f99f6-0.eaRXHu > section > div:nth-child(4) > section > section > div.sc-66ec1b32-0.bGqWwh > div > div:nth-child(2) > ul > li:nth-child(1) > a\").click()\n",
    "    sleep(15)\n",
    "    \n",
    "    lista_actores_1 = []\n",
    "    \n",
    "    for i in range(2, 12):\n",
    "        #en el caso q no haya 10 actores ponemos try...except (para que siempre haya 10 registros)\n",
    "        try:\n",
    "            lista_actores_1.append(driver.find_element(\"css selector\", f'#fullcredits_content > table.cast_list > tbody > tr:nth-child({i}) > td:nth-child(2) > a').text)\n",
    "                                                                        \n",
    "        except:\n",
    "            lista_actores_1.append(\"Sin datos\")\n",
    "\n",
    "    lista_actores_1.append(id_pel)\n",
    "        \n",
    "    lista_tupla_actores_1.append(tuple(lista_actores_1))\n",
    "    driver.back()\n",
    "\n",
    "driver.close()"
   ]
  },
  {
   "cell_type": "code",
   "execution_count": null,
   "metadata": {},
   "outputs": [],
   "source": [
    "#ok .csv para guardar, mismo nombre\n",
    "lista_tupla_actores_1"
   ]
  },
  {
   "cell_type": "code",
   "execution_count": 3,
   "metadata": {},
   "outputs": [
    {
     "ename": "NameError",
     "evalue": "name 'sleep' is not defined",
     "output_type": "error",
     "traceback": [
      "\u001b[1;31m---------------------------------------------------------------------------\u001b[0m",
      "\u001b[1;31mNameError\u001b[0m                                 Traceback (most recent call last)",
      "\u001b[1;32mc:\\Users\\rocio\\OneDrive\\Desktop\\Data_Analytics\\PROYECTOS\\FASE_3_SOLO_ACTORES_CHICAS10.ipynb Cell 11\u001b[0m line \u001b[0;36m2\n\u001b[0;32m      <a href='vscode-notebook-cell:/c%3A/Users/rocio/OneDrive/Desktop/Data_Analytics/PROYECTOS/FASE_3_SOLO_ACTORES_CHICAS10.ipynb#X13sZmlsZQ%3D%3D?line=0'>1</a>\u001b[0m \u001b[39m# pelis_API_2\u001b[39;00m\n\u001b[1;32m----> <a href='vscode-notebook-cell:/c%3A/Users/rocio/OneDrive/Desktop/Data_Analytics/PROYECTOS/FASE_3_SOLO_ACTORES_CHICAS10.ipynb#X13sZmlsZQ%3D%3D?line=1'>2</a>\u001b[0m sleep(\u001b[39m360\u001b[39m)\n\u001b[0;32m      <a href='vscode-notebook-cell:/c%3A/Users/rocio/OneDrive/Desktop/Data_Analytics/PROYECTOS/FASE_3_SOLO_ACTORES_CHICAS10.ipynb#X13sZmlsZQ%3D%3D?line=3'>4</a>\u001b[0m driver \u001b[39m=\u001b[39m webdriver\u001b[39m.\u001b[39mChrome()\n\u001b[0;32m      <a href='vscode-notebook-cell:/c%3A/Users/rocio/OneDrive/Desktop/Data_Analytics/PROYECTOS/FASE_3_SOLO_ACTORES_CHICAS10.ipynb#X13sZmlsZQ%3D%3D?line=5'>6</a>\u001b[0m driver\u001b[39m.\u001b[39mmaximize_window()\n",
      "\u001b[1;31mNameError\u001b[0m: name 'sleep' is not defined"
     ]
    }
   ],
   "source": [
    "# pelis_API_2\n",
    "\n",
    "driver = webdriver.Chrome()\n",
    "\n",
    "driver.maximize_window()\n",
    "\n",
    "sleep (360)\n",
    "\n",
    "driver.get(\"https://www.imdb.com/\")\n",
    "\n",
    "lista_tupla_actores_2 = []\n",
    "sleep(5)\n",
    "\n",
    "for id_pel in tqdm(pelis_API_2):   #lo saco directamente de la lista API de arriba #(antes: tenemos la info de la ID en el índice 4 ---> la posicion en el CSV-> debe estar en posición 5)\n",
    "    driver.find_element(\"css selector\", \"#suggestion-search\").send_keys(id_pel, Keys.ENTER)\n",
    "    sleep(5)\n",
    "   \n",
    "    driver.find_element (\"css selector\", \"#__next > main > div > section.ipc-page-background.ipc-page-background--base.sc-304f99f6-0.eaRXHu > section > div:nth-child(4) > section > section > div.sc-66ec1b32-0.bGqWwh > div > div:nth-child(2) > ul > li:nth-child(1) > a\").click()\n",
    "    sleep(15)\n",
    "    \n",
    "    lista_actores_2 = []\n",
    "    \n",
    "    for i in range(2, 12):\n",
    "        #en el caso q no haya 10 actores ponemos try...except (para que siempre haya 10 registros)\n",
    "        try:\n",
    "            lista_actores_2.append(driver.find_element(\"css selector\", f'#fullcredits_content > table.cast_list > tbody > tr:nth-child({i}) > td:nth-child(2) > a').text)\n",
    "                                                                        \n",
    "        except:\n",
    "            lista_actores_2.append(\"Sin datos\")\n",
    "\n",
    "    lista_actores_2.append(id_pel)\n",
    "        \n",
    "    lista_tupla_actores_2.append(tuple(lista_actores_2))\n",
    "    driver.back()\n",
    "\n",
    "driver.close()"
   ]
  },
  {
   "cell_type": "code",
   "execution_count": null,
   "metadata": {},
   "outputs": [
    {
     "data": {
      "text/plain": [
       "[('Sin datos',\n",
       "  'Sin datos',\n",
       "  'Sin datos',\n",
       "  'Sin datos',\n",
       "  'Sin datos',\n",
       "  'Sin datos',\n",
       "  'Sin datos',\n",
       "  'Sin datos',\n",
       "  'Sin datos',\n",
       "  'Sin datos',\n",
       "  'tt0110660'),\n",
       " ('Sin datos',\n",
       "  'Sin datos',\n",
       "  'Sin datos',\n",
       "  'Sin datos',\n",
       "  'Sin datos',\n",
       "  'Sin datos',\n",
       "  'Sin datos',\n",
       "  'Sin datos',\n",
       "  'Sin datos',\n",
       "  'Sin datos',\n",
       "  'tt0110363'),\n",
       " ('Sin datos',\n",
       "  'Sin datos',\n",
       "  'Sin datos',\n",
       "  'Sin datos',\n",
       "  'Sin datos',\n",
       "  'Sin datos',\n",
       "  'Sin datos',\n",
       "  'Sin datos',\n",
       "  'Sin datos',\n",
       "  'Sin datos',\n",
       "  'tt0110397'),\n",
       " ('Sin datos',\n",
       "  'Sin datos',\n",
       "  'Sin datos',\n",
       "  'Sin datos',\n",
       "  'Sin datos',\n",
       "  'Sin datos',\n",
       "  'Sin datos',\n",
       "  'Sin datos',\n",
       "  'Sin datos',\n",
       "  'Sin datos',\n",
       "  'tt0111045')]"
      ]
     },
     "execution_count": 13,
     "metadata": {},
     "output_type": "execute_result"
    }
   ],
   "source": [
    "# .csv para guardar, mismo nombre\n",
    "lista_tupla_actores_2"
   ]
  },
  {
   "cell_type": "code",
   "execution_count": null,
   "metadata": {},
   "outputs": [],
   "source": [
    "# pelis_API_3\n",
    "sleep(360)\n",
    "\n",
    "driver = webdriver.Chrome()\n",
    "\n",
    "driver.maximize_window()\n",
    "\n",
    "driver.get(\"https://www.imdb.com/\")\n",
    "\n",
    "lista_tupla_actores_3 = []\n",
    "sleep(5)\n",
    "\n",
    "for id_pel in tqdm(pelis_API_3):   #lo saco directamente de la lista API de arriba #(antes: tenemos la info de la ID en el índice 4 ---> la posicion en el CSV-> debe estar en posición 5)\n",
    "    driver.find_element(\"css selector\", \"#suggestion-search\").send_keys(id_pel, Keys.ENTER)\n",
    "    sleep(5)\n",
    "   \n",
    "    driver.find_element (\"css selector\", \"#__next > main > div > section.ipc-page-background.ipc-page-background--base.sc-304f99f6-0.eaRXHu > section > div:nth-child(4) > section > section > div.sc-66ec1b32-0.bGqWwh > div > div:nth-child(2) > ul > li:nth-child(1) > a\").click()\n",
    "    sleep(15)\n",
    "    \n",
    "    lista_actores_3 = []\n",
    "    \n",
    "    for i in range(2, 12):\n",
    "        #en el caso q no haya 10 actores ponemos try...except (para que siempre haya 10 registros)\n",
    "        try:\n",
    "            lista_actores_3.append(driver.find_element(\"css selector\", f'#fullcredits_content > table.cast_list > tbody > tr:nth-child({i}) > td:nth-child(2) > a').text)\n",
    "                                                                        \n",
    "        except:\n",
    "            lista_actores_3.append(\"Sin datos\")\n",
    "\n",
    "    lista_actores_3.append(id_pel)\n",
    "        \n",
    "    lista_tupla_actores_3.append(tuple(lista_actores_3))\n",
    "    driver.back()\n",
    "\n",
    "driver.close()"
   ]
  },
  {
   "cell_type": "code",
   "execution_count": null,
   "metadata": {},
   "outputs": [],
   "source": [
    "# .csv para guardar, mismo nombre\n",
    "lista_tupla_actores_3"
   ]
  },
  {
   "cell_type": "code",
   "execution_count": null,
   "metadata": {},
   "outputs": [],
   "source": [
    "# pelis_API_4\n",
    "sleep(360)\n",
    "\n",
    "driver = webdriver.Chrome()\n",
    "\n",
    "driver.maximize_window()\n",
    "\n",
    "driver.get(\"https://www.imdb.com/\")\n",
    "\n",
    "lista_tupla_actores_4 = []\n",
    "sleep(5)\n",
    "\n",
    "for id_pel in tqdm(pelis_API_4):   #lo saco directamente de la lista API de arriba #(antes: tenemos la info de la ID en el índice 4 ---> la posicion en el CSV-> debe estar en posición 5)\n",
    "    driver.find_element(\"css selector\", \"#suggestion-search\").send_keys(id_pel, Keys.ENTER)\n",
    "    sleep(5)\n",
    "   \n",
    "    driver.find_element (\"css selector\", \"#__next > main > div > section.ipc-page-background.ipc-page-background--base.sc-304f99f6-0.eaRXHu > section > div:nth-child(4) > section > section > div.sc-66ec1b32-0.bGqWwh > div > div:nth-child(2) > ul > li:nth-child(1) > a\").click()\n",
    "    sleep(15)\n",
    "    \n",
    "    lista_actores_4 = []\n",
    "    \n",
    "    for i in range(2, 12):\n",
    "        #en el caso q no haya 10 actores ponemos try...except (para que siempre haya 10 registros)\n",
    "        try:\n",
    "            lista_actores_4.append(driver.find_element(\"css selector\", f'#fullcredits_content > table.cast_list > tbody > tr:nth-child({i}) > td:nth-child(2) > a').text)\n",
    "                                                                        \n",
    "        except:\n",
    "            lista_actores_4.append(\"Sin datos\")\n",
    "\n",
    "    lista_actores_4.append(id_pel)\n",
    "        \n",
    "    lista_tupla_actores_4.append(tuple(lista_actores_4))\n",
    "    driver.back()\n",
    "\n",
    "driver.close()"
   ]
  },
  {
   "cell_type": "code",
   "execution_count": null,
   "metadata": {},
   "outputs": [],
   "source": [
    "# .csv para guardar, mismo nombre\n",
    "lista_tupla_actores_4"
   ]
  },
  {
   "cell_type": "code",
   "execution_count": null,
   "metadata": {},
   "outputs": [],
   "source": [
    "# pelis_API_5\n",
    "\n",
    "sleep(360)\n",
    "\n",
    "driver = webdriver.Chrome()\n",
    "\n",
    "driver.maximize_window()\n",
    "\n",
    "driver.get(\"https://www.imdb.com/\")\n",
    "\n",
    "lista_tupla_actores_5 = []\n",
    "sleep(5)\n",
    "\n",
    "for id_pel in tqdm(pelis_API_5):   #lo saco directamente de la lista API de arriba #(antes: tenemos la info de la ID en el índice 4 ---> la posicion en el CSV-> debe estar en posición 5)\n",
    "    driver.find_element(\"css selector\", \"#suggestion-search\").send_keys(id_pel, Keys.ENTER)\n",
    "    sleep(5)\n",
    "   \n",
    "    driver.find_element (\"css selector\", \"#__next > main > div > section.ipc-page-background.ipc-page-background--base.sc-304f99f6-0.eaRXHu > section > div:nth-child(4) > section > section > div.sc-66ec1b32-0.bGqWwh > div > div:nth-child(2) > ul > li:nth-child(1) > a\").click()\n",
    "    sleep(15)\n",
    "    \n",
    "    lista_actores_5 = []\n",
    "    \n",
    "    for i in range(2, 12):\n",
    "        #en el caso q no haya 10 actores ponemos try...except (para que siempre haya 10 registros)\n",
    "        try:\n",
    "            lista_actores_5.append(driver.find_element(\"css selector\", f'#fullcredits_content > table.cast_list > tbody > tr:nth-child({i}) > td:nth-child(2) > a').text)\n",
    "                                                                        \n",
    "        except:\n",
    "            lista_actores_5.append(\"Sin datos\")\n",
    "\n",
    "    lista_actores_5.append(id_pel)\n",
    "        \n",
    "    lista_tupla_actores_5.append(tuple(lista_actores_5))\n",
    "    driver.back()"
   ]
  },
  {
   "cell_type": "code",
   "execution_count": null,
   "metadata": {},
   "outputs": [],
   "source": [
    "# .csv para guardar, mismo nombre\n",
    "lista_tupla_actores_5"
   ]
  },
  {
   "cell_type": "markdown",
   "metadata": {},
   "source": [
    "## UNIFICAR listas y sacar .csv"
   ]
  },
  {
   "cell_type": "code",
   "execution_count": null,
   "metadata": {},
   "outputs": [],
   "source": [
    "# unifico las 5 listas de tuplas\n",
    "lista_tupla_actores = lista_tupla_actores_1 + lista_tupla_actores_2 + lista_tupla_actores_3 + lista_tupla_actores_4 + lista_tupla_actores_5\n",
    "# check de que están todos los registros que tienen que estar\n",
    "len(lista_tupla_actores) # 1454 pelis * 10 actores = 14.540 líneas en total"
   ]
  },
  {
   "cell_type": "code",
   "execution_count": null,
   "metadata": {},
   "outputs": [],
   "source": [
    "#convierto a data frame\n",
    "df = pd.DataFrame(lista_tupla_actores, columns = [\"Actriz/Actor\", \"Id_pelicula\"])\n",
    "df.head()"
   ]
  },
  {
   "cell_type": "code",
   "execution_count": null,
   "metadata": {},
   "outputs": [],
   "source": [
    "#convertir a csv\n",
    "df.to_csv(\"lista_tupla_actores.csv\")\n",
    "#LIMPIAR DATOS:\n",
    "          # ELIMINAR DUPLICADOS\n",
    "          # borrar filas con actor == 'sin datos'"
   ]
  },
  {
   "cell_type": "markdown",
   "metadata": {},
   "source": [
    "__________"
   ]
  }
 ],
 "metadata": {
  "kernelspec": {
   "display_name": "base",
   "language": "python",
   "name": "python3"
  },
  "language_info": {
   "codemirror_mode": {
    "name": "ipython",
    "version": 3
   },
   "file_extension": ".py",
   "mimetype": "text/x-python",
   "name": "python",
   "nbconvert_exporter": "python",
   "pygments_lexer": "ipython3",
   "version": "3.11.6"
  }
 },
 "nbformat": 4,
 "nbformat_minor": 2
}
