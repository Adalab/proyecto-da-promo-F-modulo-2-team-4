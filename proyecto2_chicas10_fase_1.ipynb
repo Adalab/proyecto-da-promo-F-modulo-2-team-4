{
 "cells": [
  {
   "cell_type": "code",
   "execution_count": 8,
   "metadata": {},
   "outputs": [],
   "source": [
    "import requests\n",
    "import pandas as pd\n",
    "import re"
   ]
  },
  {
   "cell_type": "code",
   "execution_count": 9,
   "metadata": {},
   "outputs": [],
   "source": [
    "def obtener_peli_por_genero(genero):\n",
    "\n",
    "\tlista_pelis= [] # todos lostipos de pelis (movies, short, tv series, games, etc)\n",
    "\n",
    "\t#lista_pelis_movies_short = [] # en esta lista solo salen movies y cuales shorts -> LA LISTA QUE NOS INTERESA MOSTRAR\n",
    "\n",
    "\tfor año in range (1990, 2023):\n",
    "\t\tfor pagina in range (1, 51):\n",
    "\t\t\turl = f\"https://moviesdatabase.p.rapidapi.com/titles?year={año}&genre={genero}&page={pagina}&limit=10\" #AÑADIDO LIMIT=50\n",
    "\t\t\tprint(url)\n",
    "\n",
    "\n",
    "\t\t#https://moviesdatabase.p.rapidapi.com/titles?startYear=1900&genre={genero}&page=1\"\n",
    "\t\tprint (url)\n",
    "\n",
    "\t\theaders = {\n",
    "\t\t\"X-RapidAPI-Key\": \"b5eb809b30msh73dbe0e2bd1a0b3p1b2eccjsn6ff0642c48dc\",\n",
    "\t\t\"X-RapidAPI-Host\": \"moviesdatabase.p.rapidapi.com\"\n",
    "\t\t}\n",
    "\n",
    "\t\tresponse = requests.get(url, headers=headers)\n",
    "\n",
    "\t\tprint(response.json())\n",
    "\n",
    "\n",
    "\t\tjson_peli = response.json()[\"results\"]\n",
    "\n",
    "\t\tif len(json_peli) > 0:\n",
    "\t\t\tfor peli in json_peli:\n",
    "\t\t\t\ttry:\n",
    "\t\t\t\t\ttipo_peli = peli.get('titleType', {}).get('text', '')\n",
    "\t\t\t\t\tif \"movie\" in tipo_peli.lower() or \"short\" in tipo_peli.lower():\n",
    "\t\t\t\t\t\ttitulo = peli.get('titleText', {}).get('text', '')\n",
    "\t\t\t\t\t\taño = peli.get('releaseDate', {}).get('year', '')\n",
    "\t\t\t\t\t\tmes = peli.get('releaseDate', {}).get('month', '')\n",
    "\t\t\t\t\t\tid_peli = peli.get('id', '')\n",
    "\t\t\t\t\t\tlista_pelis.append((tipo_peli, titulo, año, mes, id_peli))\n",
    "\t\t\t\texcept:\n",
    "\t\t\t\t\tprint(\"Error: Ni peli ni corto? \")\n",
    "\t\t\t\t\tpass #cambiar x break??\n",
    "\t\telse:\n",
    "\t\t\tbreak\n",
    "\n",
    "\t\n",
    "\treturn lista_pelis"
   ]
  },
  {
   "cell_type": "code",
   "execution_count": null,
   "metadata": {},
   "outputs": [],
   "source": [
    "def guardar_a_csv(genero):\n",
    "    # Obtenemos los resultados.  \n",
    "    resultados = obtener_peli_por_genero(genero)\n",
    "\n",
    "    # Creamos un DataFrame\n",
    "    df = pd.DataFrame(resultados, columns=[\"Tipo\", \"Titulo\", \"Año\", \"Mes\", \"Id\"])\n",
    "\n",
    "    # Guardamos el resultado en CSV\n",
    "    df.to_csv(f\"datos_{genero}.csv\", index=False)\n",
    "\n",
    "# Llamamos a la función:\n",
    "genero_deseado = \"Action\"  # Reemplazar con el género deseado: Drama, Comedy, Action, Fantasy, Horror, Mystery, Romance, Thriller.\n",
    "guardar_a_csv(genero_deseado)\n",
    "\n"
   ]
  },
  {
   "cell_type": "code",
   "execution_count": 11,
   "metadata": {},
   "outputs": [],
   "source": [
    "def centralizar_csv(genero):\n",
    "    dfs = []\n",
    "\n",
    "    for genero in generos:\n",
    "        try:\n",
    "            df = pd.read_csv(f\"datos_{genero.lower()}.csv\")\n",
    "            df['genero'] = genero\n",
    "            dfs.append(df)\n",
    "        except FileNotFoundError:\n",
    "            print(f\"¡Error! El archivo datos_{genero.lower()}.csv no se encontró.\")\n",
    "\n",
    "    df_final = pd.concat(dfs, axis=0, ignore_index=True)\n",
    "    df_final = df_final.drop(\"Unnamed: 0\", axis=1)  # Eliminar la columna Unnamed: 0\n",
    "\n",
    "    return df_final\n",
    "\n",
    "# Lista de géneros\n",
    "generos = [\"Drama\", \"Action\", \"Comedia\", \"Fantasy\", \"Horror\", \"Romance\", \"Thriller\", \"Mystery\"]\n",
    "    "
   ]
  }
 ],
 "metadata": {
  "kernelspec": {
   "display_name": "base",
   "language": "python",
   "name": "python3"
  },
  "language_info": {
   "codemirror_mode": {
    "name": "ipython",
    "version": 3
   },
   "file_extension": ".py",
   "mimetype": "text/x-python",
   "name": "python",
   "nbconvert_exporter": "python",
   "pygments_lexer": "ipython3",
   "version": "3.9.7"
  }
 },
 "nbformat": 4,
 "nbformat_minor": 2
}
