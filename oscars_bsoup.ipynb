{
 "cells": [
  {
   "cell_type": "code",
   "execution_count": 1,
   "metadata": {},
   "outputs": [],
   "source": [
    "from bs4 import BeautifulSoup\n",
    "import requests\n",
    "import pandas as pd\n",
    "import re\n"
   ]
  },
  {
   "cell_type": "code",
   "execution_count": 4,
   "metadata": {},
   "outputs": [],
   "source": [
    "url= 'https://es.wikipedia.org/wiki/Premios_%C3%93scar'\n",
    "request_url=requests.get(url)\n",
    "request_url.status_code\n",
    "sopa_oscar = BeautifulSoup(request_url.content,'html.parser')"
   ]
  },
  {
   "cell_type": "code",
   "execution_count": 13,
   "metadata": {},
   "outputs": [],
   "source": [
    "tabla = sopa_oscar.findAll(\"table\")\n",
    "tabla_oscar = tabla[2]"
   ]
  },
  {
   "cell_type": "code",
   "execution_count": 16,
   "metadata": {},
   "outputs": [
    {
     "data": {
      "text/plain": [
       "['N.º\\n',\n",
       " 'Ceremonia\\n',\n",
       " 'Mejor película\\n',\n",
       " 'Mejor director\\n',\n",
       " 'Mejor actor\\n',\n",
       " 'Mejor actriz\\n',\n",
       " 'Mejor actor reparto\\n',\n",
       " 'Mejor actriz reparto\\n',\n",
       " 'Presentador\\n',\n",
       " 'Audiencia\\n']"
      ]
     },
     "execution_count": 16,
     "metadata": {},
     "output_type": "execute_result"
    }
   ],
   "source": [
    "encabezados = tabla_oscar.findAll('th')\n",
    "encabezados_oscar = [columna.text for columna in encabezados]\n",
    "encabezados_oscar"
   ]
  },
  {
   "cell_type": "code",
   "execution_count": 19,
   "metadata": {},
   "outputs": [
    {
     "data": {
      "text/plain": [
       "96"
      ]
     },
     "execution_count": 19,
     "metadata": {},
     "output_type": "execute_result"
    }
   ],
   "source": [
    "filas = tabla_oscar.findAll('tr')\n",
    "len(filas)"
   ]
  },
  {
   "cell_type": "code",
   "execution_count": 25,
   "metadata": {},
   "outputs": [
    {
     "data": {
      "text/plain": [
       "['',\n",
       " '62°',\n",
       " '',\n",
       " '26 de abrilde 1990',\n",
       " '',\n",
       " ' Driving Miss Daisy',\n",
       " '',\n",
       " ' O. Stone(Born on the Fourth of July)',\n",
       " '',\n",
       " ' D. Day-Lewis(Mi pie izquierdo)',\n",
       " '',\n",
       " ' J. Tandy(Driving Miss Daisy)',\n",
       " '',\n",
       " ' D. Washington(Glory)',\n",
       " '',\n",
       " ' B. Fricker(Mi pie izquierdo)',\n",
       " '',\n",
       " 'Billy Crystal',\n",
       " '',\n",
       " '40\\xa0220\\xa0000',\n",
       " '']"
      ]
     },
     "execution_count": 25,
     "metadata": {},
     "output_type": "execute_result"
    }
   ],
   "source": [
    "prueba=filas[62].text.split('\\n')\n",
    "prueba"
   ]
  },
  {
   "cell_type": "code",
   "execution_count": 44,
   "metadata": {},
   "outputs": [
    {
     "data": {
      "text/plain": [
       "['26 de abrilde 1990',\n",
       " 'Driving Miss Daisy',\n",
       " 'O. Stone(Born on the Fourth of July)',\n",
       " 'D. Day-Lewis(Mi pie izquierdo)',\n",
       " 'J. Tandy(Driving Miss Daisy)',\n",
       " '25 de marzode 1991',\n",
       " 'Dances with Wolves',\n",
       " 'K. Costner(Dances with Wolves)',\n",
       " 'J. Irons(Reversal of Fortune)',\n",
       " 'K. Bates(Misery)',\n",
       " '30 de marzode 1992',\n",
       " 'The Silence of the Lambs',\n",
       " 'J. Demme(The Silence of the Lambs)',\n",
       " 'A. Hopkins(The Silence of the Lambs)',\n",
       " 'J. Foster(The Silence of the Lambs)',\n",
       " '29 de marzode 1993',\n",
       " 'Unforgiven',\n",
       " 'C. Eastwood(Unforgiven)',\n",
       " 'A. Pacino(Scent of a Woman)',\n",
       " 'E. Thompson(Howards End)',\n",
       " '21 de marzode 1994',\n",
       " \"Schindler's List\",\n",
       " \"S. Spielberg(Schindler's List)\",\n",
       " 'T. Hanks(Philadelphia)',\n",
       " 'H. Hunter(The Piano)',\n",
       " '27 de marzode 1995',\n",
       " 'Forrest Gump',\n",
       " 'R. Zemeckis(Forrest Gump)',\n",
       " 'T. Hanks(Forrest Gump)',\n",
       " 'J. Lange(Blue Sky)',\n",
       " '25 de marzode 1996',\n",
       " 'Braveheart',\n",
       " 'M. Gibson(Braveheart)',\n",
       " 'N. Cage(Leaving Las Vegas)',\n",
       " 'S. Sarandon(Dead Man Walking)',\n",
       " '24 de marzo1997',\n",
       " 'The English Patient',\n",
       " 'A. Minghella(The English Patient)',\n",
       " 'G. Rush(Shine)',\n",
       " 'F. McDormand(Fargo)',\n",
       " '23 de marzode 1998',\n",
       " 'Titanic',\n",
       " 'J. Cameron(Titanic)',\n",
       " 'J. Nicholson(As Good as It Gets)',\n",
       " 'H. Hunt(As Good as It Gets)',\n",
       " '21 de marzode 1999',\n",
       " 'Shakespeare in Love',\n",
       " 'S. Spielberg(Saving Private Ryan)',\n",
       " 'R. Benigni(La vita è bella)',\n",
       " 'G. Paltrow(Shakespeare in Love)',\n",
       " '26 de marzo2000',\n",
       " 'American Beauty',\n",
       " 'S. Mendes(American Beauty)',\n",
       " 'K. Spacey(American Beauty)',\n",
       " \"H. Swank(Boys don't cry)\",\n",
       " '25 de marzo2001',\n",
       " 'Gladiator',\n",
       " 'S. Soderbergh(Traffic)',\n",
       " 'R. Crowe(Gladiator)',\n",
       " 'J. Roberts(Erin Brockovich)',\n",
       " '24 de marzode 2002',\n",
       " 'A Beautiful Mind',\n",
       " 'R. Howard(A Beautiful Mind)',\n",
       " 'D. Washington(Training Day)',\n",
       " \"H. Berry(Monster's Ball)\",\n",
       " '23 de marzode 2003',\n",
       " 'Chicago',\n",
       " 'R. Polanski(The Pianist)',\n",
       " 'A. Brody(The Pianist)',\n",
       " 'N. Kidman(The Hours)',\n",
       " '29 de febrerode 2004',\n",
       " 'The Lord of the Rings: The Return of the King',\n",
       " 'P. Jackson(The Lord of the Rings: The Return of the King)',\n",
       " 'S. Penn(Mystic River)',\n",
       " 'C. Theron(Monster)',\n",
       " '27 de febrerode 2005',\n",
       " 'Million Dollar Baby',\n",
       " 'C. Eastwood(Million Dollar Baby)',\n",
       " 'J. Foxx(Ray)',\n",
       " 'H. Swank(Million Dollar Baby)',\n",
       " '5 de marzode 2006',\n",
       " 'Crash',\n",
       " 'A. Lee(Brokeback Mountain)',\n",
       " 'P. S. Hoffman(Capote)',\n",
       " 'R. Witherspoon(Walk the Line)',\n",
       " '25 de febrerode 2007',\n",
       " 'The Departed',\n",
       " 'M. Scorsese(The Departed)',\n",
       " 'F. Whitaker(The Last King of Scotland)',\n",
       " 'H. Mirren(The Queen)',\n",
       " '24 de febrerode 2008',\n",
       " 'No Country for Old Men',\n",
       " 'J. Coen E. Coen(No Country for Old Men)',\n",
       " 'D. Day-Lewis(There Will Be Blood)',\n",
       " 'M. Cotillard(La Môme)',\n",
       " '22 de febrerode 2009',\n",
       " 'Slumdog Millionaire',\n",
       " 'D. Boyle(Slumdog Millionaire)',\n",
       " 'S. Penn(Milk)',\n",
       " 'K. Winslet(The Reader)',\n",
       " '7 de marzode 2010',\n",
       " 'The Hurt Locker',\n",
       " 'K. Bigelow(The Hurt Locker)',\n",
       " 'J. Bridges(Crazy Heart)',\n",
       " 'S. Bullock(The Blind Side)',\n",
       " '27 de febrerode 2011',\n",
       " \"The King's Speech\",\n",
       " \"T. Hooper(The King's Speech)\",\n",
       " \"C. Firth(The King's Speech)\",\n",
       " 'N. Portman(Black Swan)',\n",
       " '26 de febrerode 2012',\n",
       " 'The Artist',\n",
       " 'M. Hazanavicius(The Artist)',\n",
       " 'J. Dujardin(The Artist)',\n",
       " 'M. Streep(The Iron Lady)',\n",
       " '24 de febrerode 2013',\n",
       " 'Argo',\n",
       " 'A. Lee(Life of Pi)',\n",
       " 'D. Day-Lewis(Lincoln)',\n",
       " 'J. Lawrence(Silver Linings Playbook)',\n",
       " '2 de marzode 2014',\n",
       " '12 Years a Slave',\n",
       " 'A. Cuarón(Gravity)',\n",
       " 'M. McConaughey(Dallas Buyers Club)',\n",
       " 'C. Blanchett(Blue Jasmine)',\n",
       " '22 de febrerode 2015',\n",
       " 'Birdman or (The Unexpected Virtue of Ignorance)',\n",
       " 'A. G. Iñárritu(Birdman or (The Unexpected Virtue of Ignorance))',\n",
       " 'E. Redmayne(The Theory Of Everything)',\n",
       " 'J.Moore(Still Alice)',\n",
       " '28 de febrerode 2016',\n",
       " 'Spotlight',\n",
       " 'A. G. Iñárritu(The Revenant)',\n",
       " 'L. DiCaprio(The Revenant)',\n",
       " 'B. Larson(Room)',\n",
       " '26 de febrerode 2017',\n",
       " 'Moonlight',\n",
       " 'D. Chazelle(La La Land)',\n",
       " 'C. Affleck(Manchester by the Sea)',\n",
       " 'E. Stone(La La Land)',\n",
       " '4 de marzode 2018',\n",
       " 'The Shape of Water',\n",
       " 'G. del Toro(The Shape of Water)',\n",
       " 'G. Oldman(Darkest Hour)',\n",
       " 'F. McDormand(Three Billboards Outside Ebbing, Missouri)',\n",
       " '24 de febrerode 2019',\n",
       " 'Green Book',\n",
       " 'A. Cuarón(Roma)',\n",
       " 'R. Malek(Bohemian Rhapsody)',\n",
       " 'O. Colman(La favorita)',\n",
       " '9 de febrerode 2020',\n",
       " 'Parasite',\n",
       " 'Bong J.(Parasite)',\n",
       " 'J. Phoenix(Joker)',\n",
       " 'R. Zellweger(Judy)',\n",
       " '25 de abrilde 2021',\n",
       " 'Nomadland',\n",
       " 'C. Zhao(Nomadland)',\n",
       " 'A. Hopkins(The Father)',\n",
       " 'F. McDormand(Nomadland)',\n",
       " '27 de marzode 2022',\n",
       " 'CODA',\n",
       " 'J. Campion(The Power of the Dog)',\n",
       " 'W. Smith(King Richard)',\n",
       " 'J. Chastain(The Eyes of Tammy Faye)']"
      ]
     },
     "execution_count": 44,
     "metadata": {},
     "output_type": "execute_result"
    }
   ],
   "source": [
    "datos_oscar = []\n",
    "for fila in filas [62:95]:\n",
    "    separamos = fila.text.split('\\n')[3:12:2]\n",
    "    for elemento in separamos:\n",
    "        espacios = elemento.strip()\n",
    "    datos_oscar.append(espacios)\n",
    "datos_oscar\n",
    "    \n"
   ]
  }
 ],
 "metadata": {
  "kernelspec": {
   "display_name": "base",
   "language": "python",
   "name": "python3"
  },
  "language_info": {
   "codemirror_mode": {
    "name": "ipython",
    "version": 3
   },
   "file_extension": ".py",
   "mimetype": "text/x-python",
   "name": "python",
   "nbconvert_exporter": "python",
   "pygments_lexer": "ipython3",
   "version": "3.9.7"
  }
 },
 "nbformat": 4,
 "nbformat_minor": 2
}
