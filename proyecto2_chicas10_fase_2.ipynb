{
 "cells": [
  {
   "cell_type": "markdown",
   "metadata": {},
   "source": [
    "# IMDB"
   ]
  },
  {
   "cell_type": "code",
   "execution_count": 6,
   "metadata": {},
   "outputs": [],
   "source": [
    "import requests\n",
    "import pandas as pd\n",
    "\n",
    "# Importar librerías para web scraping y manipulación de datos\n",
    "# -----------------------------------------------------------------------\n",
    "from bs4 import BeautifulSoup\n",
    "import requests\n",
    "\n",
    "import numpy as np\n",
    "from tqdm import tqdm\n",
    "\n",
    "# Importar librerías para automatización de navegadores web con Selenium\n",
    "# -----------------------------------------------------------------------\n",
    "from selenium import webdriver  # Selenium es una herramienta para automatizar la interacción con navegadores web.\n",
    "from webdriver_manager.chrome import ChromeDriverManager  # ChromeDriverManager gestiona la instalación del controlador de Chrome.\n",
    "from selenium.webdriver.common.keys import Keys  # Keys es útil para simular eventos de teclado en Selenium.\n",
    "\n",
    "# Importar librerías para pausar la ejecución\n",
    "# -----------------------------------------------------------------------\n",
    "from time import sleep  # Sleep se utiliza para pausar la ejecución del programa por un número de segundos.\n",
    "from selenium.common.exceptions import NoSuchElementException"
   ]
  },
  {
   "cell_type": "code",
   "execution_count": 3,
   "metadata": {},
   "outputs": [
    {
     "name": "stdout",
     "output_type": "stream",
     "text": [
      "['tt0320656', 'tt0318803', 'tt0320503', 'tt0330019', 'tt0348147', 'tt0349237', 'tt0349971', 'tt0351141', 'tt0344301', 'tt0344816', 'tt0330855', 'tt0334294', 'tt0334765', 'tt0285962', 'tt0290183', 'tt0290213', 'tt0277621', 'tt0280889', 'tt0285543', 'tt0285680', 'tt0286593', 'tt0288305', 'tt0288841', 'tt0289685', 'tt0290098', 'tt0286772', 'tt0286421', 'tt0286936', 'tt0288427', 'tt0289611', 'tt0290674', 'tt0278580', 'tt0281019', 'tt0280427', 'tt0295989', 'tt0295925', 'tt0297241', 'tt0296919', 'tt0298514', 'tt0298515', 'tt0339878', 'tt0339918', 'tt0340227', 'tt0339252', 'tt0374286', 'tt0374345', 'tt0374526', 'tt0374228', 'tt0374184', 'tt0374271', 'tt0420175', 'tt0420324', 'tt0418587', 'tt0418598', 'tt0419736', 'tt0462570', 'tt0934949', 'tt1110626', 'tt1114725', 'tt1116185', 'tt1117379', 'tt1322302', 'tt12731590', 'tt12737858', 'tt1274596', 'tt12747740', 'tt1276104', 'tt1277403', 'tt11294796', 'tt11372090', 'tt11423922', 'tt11428282', 'tt11447774', 'tt3564806', 'tt10307720', 'tt10305124', 'tt10080934', 'tt10955374', 'tt10968850', 'tt10968008', 'tt10966832', 'tt10972026', 'tt10978650', 'tt11914358', 'tt11921924', 'tt11924110', 'tt11924002', 'tt11923304', 'tt11928952', 'tt14134448', 'tt0099635', 'tt0100256', 'tt0100383', 'tt0100706', 'tt0099685', 'tt0100207', 'tt0100334', 'tt0101250', 'tt0101277', 'tt0101580', 'tt0101669', 'tt0101843', 'tt0101952', 'tt0102236', 'tt0102309', 'tt0102855', 'tt0104900', 'tt0104270', 'tt0104386', 'tt0104427', 'tt0104883', 'tt0104899', 'tt0105008', 'tt0103850', 'tt0104337', 'tt0108487', 'tt0106875', 'tt0107019', 'tt0107146', 'tt0106850', 'tt0106894', 'tt0109690', 'tt0109731', 'tt0109732', 'tt0109795', 'tt0109800', 'tt0109859', 'tt0109828', 'tt0109848', 'tt0109941', 'tt0109906', 'tt0113672', 'tt0113569', 'tt0113600', 'tt0113638', 'tt0112438', 'tt0113241', 'tt0113071', 'tt0113550', 'tt0116643', 'tt0116124', 'tt0116231', 'tt0116378', 'tt0115826', 'tt0115929', 'tt0115578', 'tt0115726', 'tt0119361', 'tt0119379', 'tt0119536', 'tt0119581', 'tt0119610', 'tt0119773', 'tt0119859', 'tt0138590', 'tt0138535', 'tt0138652', 'tt0138704', 'tt0137520', 'tt0138389', 'tt0172469', 'tt0172348', 'tt0172606', 'tt0173275', 'tt0172704', 'tt0173298', 'tt0173387', 'tt0213890', 'tt0213733', 'tt0212215', 'tt0212318', 'tt0212218', 'tt0211492', 'tt0211598', 'tt0211941', 'tt0212059', 'tt0253200', 'tt0253101', 'tt0253312', 'tt0254610', 'tt0254791', 'tt0253862', 'tt0255313', 'tt0254334', 'tt0254703', 'tt0292610', 'tt0290729', 'tt0291259', 'tt0292513', 'tt0293888', 'tt0292259', 'tt0291392', 'tt0293357', 'tt0293154', 'tt0331360', 'tt0329525', 'tt0329162', 'tt0329584', 'tt0331175', 'tt0330970', 'tt0328868', 'tt0331231', 'tt0329679', 'tt0370365', 'tt0370986', 'tt0371101', 'tt0371939', 'tt0372828', 'tt0372167', 'tt0371677', 'tt0371050', 'tt0372884', 'tt0409527', 'tt0410381', 'tt0409034', 'tt0410516', 'tt0410275', 'tt0410156', 'tt0410445', 'tt0410400', 'tt0410410', 'tt0456467', 'tt0454396', 'tt0454602', 'tt0455988', 'tt0456481', 'tt0454429', 'tt0454848', 'tt0454921', 'tt0455149', 'tt0762110', 'tt0760311', 'tt0760182', 'tt0760173', 'tt0760157', 'tt0759757', 'tt0763839', 'tt0763847', 'tt0935101', 'tt0932669', 'tt0934840', 'tt0937233', 'tt0937378', 'tt0937373', 'tt10050610', 'tt10017546', 'tt10018590', 'tt10026668', 'tt10022852', 'tt10026970', 'tt10027174', 'tt10021724', 'tt10021708', 'tt10021158', 'tt10021750', 'tt10203432', 'tt10201328', 'tt10682414', 'tt10685024', 'tt10687070', 'tt10687016', 'tt10686506', 'tt10687506', 'tt10692368', 'tt12004038', 'tt12015102', 'tt12015752', 'tt0100134', 'tt0100137', 'tt0100767', 'tt0100771', 'tt0100122', 'tt0100758', 'tt0100924', 'tt0100763', 'tt0102729', 'tt0103276', 'tt0103329', 'tt0102903', 'tt0103045', 'tt0102630', 'tt0102357', 'tt0105198', 'tt0105231', 'tt0105260', 'tt0105388', 'tt0105417', 'tt0105512', 'tt0105573', 'tt0105567', 'tt0107098', 'tt0107364', 'tt0107766', 'tt0107614', 'tt0106353', 'tt0106449', 'tt0107991', 'tt0107994', 'tt0111661', 'tt0110513', 'tt0110660', 'tt0110363', 'tt0110397', 'tt0111045', 'tt0111653', 'tt0113986', 'tt0114054', 'tt0113971', 'tt0113541', 'tt0113841', 'tt0114113', 'tt0113790', 'tt0113865', 'tt0116325', 'tt0116770', 'tt0116268', 'tt0116857', 'tt0116959', 'tt0115621', 'tt0116290', 'tt0120266', 'tt0120317', 'tt0120394', 'tt0120489', 'tt0120002', 'tt0120151', 'tt0120209', 'tt0120270', 'tt0150574', 'tt0150167', 'tt0150727', 'tt0150434', 'tt0150941', 'tt0150918', 'tt0150790', 'tt0187831', 'tt0187659', 'tt0186397', 'tt0186726', 'tt0187867', 'tt0187819', 'tt0228687', 'tt0228525', 'tt0228239', 'tt0229475', 'tt0229022', 'tt0228720', 'tt0230041', 'tt0230056', 'tt0271271', 'tt0272676', 'tt0272735', 'tt0273300', 'tt0271020', 'tt0272018', 'tt0271538', 'tt0272093', 'tt0271461', 'tt0304657', 'tt0304669', 'tt0305578', 'tt0304678', 'tt0303781', 'tt0304008', 'tt0304458', 'tt0304707', 'tt0341372', 'tt0340737', 'tt0341326', 'tt0341598', 'tt0341540', 'tt0341376', 'tt0341216', 'tt0342776', 'tt0343524', 'tt0383717', 'tt0384576', 'tt0385013', 'tt0383846', 'tt0385511', 'tt0385534', 'tt0384504', 'tt0384037', 'tt0425426', 'tt0426459', 'tt0424999', 'tt0426452', 'tt0426615', 'tt0425333', 'tt0425202', 'tt0424187', 'tt0470732', 'tt0472482', 'tt0472520', 'tt0469754', 'tt0470082', 'tt0470079', 'tt0472615', 'tt0469911', 'tt0473050', 'tt0469519', 'tt0808472', 'tt0808425', 'tt0809951', 'tt0808409', 'tt0810082', 'tt0810868', 'tt0810099', 'tt0811106', 'tt10070746', 'tt10071408', 'tt10061802', 'tt10021716', 'tt10021688', 'tt10022384', 'tt10324122', 'tt10324166', 'tt10326882', 'tt11125620', 'tt11132688', 'tt11135944', 'tt13316790', 'tt13320622', 'tt13320706', 'tt13322796', 'tt13320662', 'tt13328854', 'tt13335652', 'tt0470382', 'tt0472074', 'tt0472618', 'tt0472485', 'tt0475404', 'tt0475945', 'tt0473474', 'tt0474949', 'tt0475600', 'tt0475946', 'tt0478821', 'tt0481001', 'tt0480969', 'tt0480768', 'tt0481302', 'tt0795403', 'tt0969322', 'tt1185834', 'tt1322910', 'tt1323925', 'tt1324057', 'tt1326218', 'tt1326957', 'tt1326972', 'tt1438254', 'tt1439532', 'tt12141548', 'tt12215220', 'tt1222817', 'tt12306262', 'tt12321038', 'tt1235170', 'tt13820914', 'tt13817214', 'tt10100940', 'tt11107978', 'tt11116656', 'tt11124092', 'tt11128480', 'tt11123316', 'tt11131816', 'tt12572368', 'tt12592338', 'tt12592680', 'tt12619898', 'tt12625756', 'tt4621366', 'tt4629450', 'tt4631440', 'tt4636258', 'tt4641348', 'tt4666644', 'tt4872678', 'tt4903204', 'tt4924236', 'tt1964988', 'tt1984180', 'tt1995281', 'tt2004260', 'tt2007420', 'tt2008636', 'tt2011113', 'tt2016844', 'tt2025513', 'tt2035624', 'tt2041503', 'tt2043811', 'tt2047925', 'tt2057385', 'tt2075080', 'tt2069978', 'tt2072977', 'tt2076140', 'tt2079488', 'tt2082492', 'tt2089839', 'tt2088807', 'tt2090607', 'tt2091432', 'tt2095626', 'tt2109121', 'tt2110395', 'tt2111297', 'tt2115308', 'tt2122322', 'tt2130074', 'tt2132311', 'tt2132495', 'tt2148815', 'tt2150812', 'tt2151887', 'tt2151052', 'tt2153885', 'tt2166141', 'tt2166261', 'tt2176045', 'tt2174552', 'tt2177562', 'tt2191664', 'tt2195110', 'tt2194491', 'tt2201141', 'tt2202371', 'tt2205539', 'tt2217816', 'tt2217881', 'tt2235801', 'tt1596262', 'tt1599378', 'tt1600443', 'tt1600765', 'tt1602039', 'tt1601791', 'tt1602110', 'tt1603470', 'tt1603807', 'tt1603808', 'tt1603911', 'tt1748161', 'tt1748134', 'tt1748288', 'tt1754170', 'tt1753423', 'tt1753402', 'tt1753518', 'tt1753484', 'tt1753727', 'tt1754000', 'tt1754124', 'tt1754274', 'tt1753750', 'tt1753598', 'tt1754088', 'tt1754677', 'tt1754614', 'tt1754726', 'tt1754599', 'tt1754348', 'tt1754901', 'tt1754732', 'tt1754077', 'tt1753674', 'tt1999969', 'tt2000410', 'tt1999858', 'tt1999851', 'tt1999895', 'tt2000433', 'tt2004153', 'tt2005193', 'tt2004426', 'tt2005372', 'tt2005220', 'tt2004284', 'tt2005190', 'tt2006093', 'tt2006297', 'tt2005221', 'tt2313780', 'tt2316550', 'tt2315792', 'tt2315292', 'tt2314348', 'tt2314254', 'tt2315170', 'tt2315864', 'tt2316418', 'tt2316564', 'tt2316521', 'tt2315428', 'tt2316637', 'tt2317486', 'tt2316404', 'tt2317414', 'tt2316959', 'tt2318360', 'tt2318569', 'tt2319420', 'tt2317734', 'tt2318433', 'tt2318675', 'tt2318535', 'tt2938190', 'tt2937378', 'tt2943870', 'tt2941494', 'tt2943990', 'tt2936408', 'tt2939094', 'tt2941258', 'tt2937080', 'tt2938282', 'tt2940782', 'tt2941436', 'tt2942404', 'tt2942728', 'tt3608780', 'tt3608654', 'tt3609482', 'tt3609874', 'tt3608476', 'tt3608808', 'tt3610680', 'tt3612476', 'tt3612494', 'tt3612342', 'tt3614484', 'tt3615590', 'tt3614870', 'tt3615066', 'tt3615570', 'tt3616378', 'tt3617952', 'tt3613664', 'tt3616444', 'tt3619340', 'tt3619854', 'tt3620736', 'tt3620118', 'tt3622252', 'tt3621466', 'tt3623882', 'tt3629024', 'tt4386242', 'tt4388230', 'tt4392454', 'tt4392362', 'tt4392724', 'tt4392396', 'tt4396584', 'tt4396330', 'tt4397114', 'tt4396034', 'tt4396744', 'tt4397576', 'tt4400036', 'tt4402410', 'tt4402074', 'tt4401702', 'tt4401132', 'tt4401362', 'tt4405432', 'tt4404474', 'tt4401386', 'tt4404292', 'tt4412338', 'tt4411554', 'tt5330902', 'tt5330854', 'tt5331612', 'tt5333132', 'tt5334598', 'tt5333890', 'tt5334102', 'tt5338346', 'tt5337414', 'tt5341128', 'tt5341078', 'tt5340542', 'tt5340882', 'tt5341538', 'tt5342520', 'tt5342196', 'tt5340864', 'tt5343730', 'tt5344394', 'tt5345298', 'tt5350044', 'tt5350098', 'tt5352034', 'tt5350688', 'tt5353006', 'tt5352998', 'tt5355360', 'tt5354458', 'tt5851592', 'tt5848862', 'tt5856116', 'tt5856594', 'tt5854198', 'tt5860750', 'tt5862836', 'tt5861882', 'tt5859042', 'tt5862312', 'tt5858234', 'tt5863822', 'tt5868058', 'tt5862464', 'tt5871412', 'tt5867404', 'tt5871318', 'tt5869246', 'tt5866170', 'tt5873448', 'tt4113346', 'tt4155680', 'tt4161376', 'tt4157484', 'tt4177670', 'tt4180532', 'tt4185538', 'tt4188180', 'tt4187646', 'tt4202970', 'tt4203788', 'tt4204450', 'tt4208978', 'tt4225092', 'tt4229864', 'tt4259842', 'tt4263780', 'tt4266102', 'tt4266076', 'tt4270452', 'tt4269118', 'tt4278346', 'tt4287470', 'tt4305160', 'tt4312842', 'tt4335614', 'tt4352538', 'tt4369136', 'tt4368570', 'tt4372084', 'tt4374286', 'tt4381382', 'tt4404206', 'tt4411234', 'tt4418152', 'tt4422886', 'tt4423788', 'tt4443974', 'tt4454834', 'tt4457008', 'tt4472982', 'tt4491146', 'tt4504144', 'tt4503112', 'tt4507566', 'tt4518962', 'tt4516814', 'tt4520518', 'tt4530422', 'tt10768346', 'tt10767566', 'tt10767168', 'tt10767384', 'tt10771232', 'tt10771014', 'tt10771492', 'tt10772310', 'tt10772508', 'tt10773246', 'tt10772348', 'tt10772728', 'tt10772994', 'tt10771344', 'tt10772304', 'tt10773386', 'tt10777280', 'tt10776598', 'tt10774576', 'tt10777088', 'tt10776436', 'tt10776702', 'tt10777296', 'tt10778584', 'tt10786718', 'tt10783516', 'tt10783080', 'tt10787718', 'tt10787274', 'tt10785206', 'tt12234750', 'tt12235836', 'tt12236310', 'tt12239222', 'tt12236288', 'tt12236242', 'tt12237116', 'tt12241238', 'tt12239042', 'tt12239128', 'tt12242936', 'tt12241482', 'tt12244152', 'tt12245806', 'tt12244390', 'tt12244676', 'tt12245110', 'tt12245768', 'tt12247826', 'tt12245872', 'tt12246836', 'tt12249036', 'tt14165710', 'tt14164708', 'tt14168392', 'tt14168888', 'tt14170458', 'tt14170178', 'tt14170108', 'tt14172656', 'tt14175438', 'tt14172892', 'tt14174586', 'tt14174278', 'tt19316160', 'tt19316712', 'tt19328882', 'tt19355610', 'tt19357018', 'tt19353940', 'tt19354910', 'tt19356146', 'tt19357478', 'tt19358828', 'tt19359866', 'tt19363900', 'tt19357830', 'tt19364200', 'tt19357834', 'tt19365024', 'tt19365498', 'tt19365926', 'tt19367438', 'tt19369392', 'tt19369570', 'tt19369784', 'tt19370248', 'tt19370780', 'tt19369296', 'tt19365404', 'tt27811641', 'tt27812098', 'tt27812638', 'tt27812992', 'tt27813558', 'tt27814965', 'tt27817365', 'tt27818377', 'tt27818862', 'tt27825585', 'tt27826966', 'tt27829138', 'tt27829251', 'tt27829732', 'tt27830338', 'tt27830625', 'tt27831431', 'tt0378343', 'tt0385212', 'tt0390400', 'tt0395480', 'tt0317807', 'tt0317985', 'tt0318984', 'tt0331642', 'tt0333547', 'tt0334113', 'tt0285804', 'tt0286672', 'tt0289575', 'tt0291149', 'tt0292387', 'tt0295539', 'tt0301512', 'tt0267950', 'tt0272681', 'tt0272142', 'tt0271849', 'tt0273163', 'tt0275441', 'tt0219371', 'tt0216753', 'tt0217660', 'tt0206303', 'tt0204744', 'tt0207415', 'tt0210920', 'tt0241222', 'tt0240457', 'tt0243558', 'tt0244037', 'tt0245860', 'tt0244794', 'tt0246701', 'tt0263836', 'tt0263491', 'tt0263101', 'tt0265017', 'tt0263840', 'tt0263817', 'tt0287942', 'tt0289627', 'tt0288730', 'tt0288808', 'tt0324518', 'tt0323788', 'tt0323829', 'tt0324975', 'tt0323874', 'tt0326773', 'tt0368452', 'tt0368428', 'tt0366880', 'tt0366581', 'tt0366920', 'tt0366915', 'tt0367137', 'tt0367245', 'tt0366840', 'tt0408981', 'tt0409068', 'tt0410803', 'tt0410591', 'tt0410536', 'tt0411883', 'tt0411096', 'tt0452167', 'tt0453040', 'tt0452611', 'tt0453047', 'tt0453201', 'tt0453515', 'tt0897249', 'tt0896968', 'tt0896957', 'tt0898887', 'tt10849812', 'tt10851198', 'tt10857048', 'tt10859670', 'tt10869180', 'tt12714422', 'tt15070914', 'tt15072672', 'tt15092772', 'tt15094830', 'tt15114166', 'tt28331529', 'tt28660615', 'tt28857336', 'tt5960506', 'tt5964886', 'tt6257646', 'tt6380828', 'tt8659854', 'tt2180441', 'tt2302515', 'tt2473052', 'tt2523120', 'tt2663796', 'tt2663784', 'tt2663852', 'tt2722872', 'tt2727252', 'tt2917334', 'tt2929826', 'tt11230238', 'tt11502648', 'tt10295786', 'tt1133559', 'tt11806164', 'tt1183922', 'tt1202344', 'tt1223456', 'tt1227171', 'tt1033633', 'tt10345862', 'tt1038040', 'tt1043716', 'tt1055268', 'tt0929793', 'tt0930063', 'tt1149402', 'tt1151400', 'tt1151836', 'tt1152279', 'tt1153045', 'tt1153048', 'tt1155067', 'tt1155062', 'tt1155650', 'tt11561638', 'tt1156311', 'tt1313108', 'tt1313225', 'tt1313251', 'tt1313879', 'tt1314172', 'tt1314367', 'tt1314248', 'tt1315045', 'tt1315047', 'tt1315042', 'tt1315346', 'tt1315393', 'tt1316041', 'tt1315894', 'tt1316083', 'tt1316053', 'tt1453448', 'tt1453955', 'tt1453978', 'tt1453949', 'tt1454461', 'tt1454723', 'tt1454986', 'tt1455082', 'tt1454925', 'tt1455012', 'tt1455166', 'tt1455635', 'tt1456085', 'tt1646230', 'tt1646091', 'tt1646221', 'tt1646973', 'tt1646176', 'tt1646231', 'tt1646943', 'tt1647483', 'tt1869486', 'tt1869296', 'tt1869309', 'tt1871270', 'tt1869606', 'tt1870393', 'tt1869551', 'tt1871997', 'tt1871261', 'tt1872152', 'tt1870527', 'tt1872084', 'tt1872879', 'tt1873556', 'tt1872814', 'tt2202366', 'tt2201926', 'tt2202798', 'tt2201810', 'tt2202579', 'tt2203765', 'tt2203951', 'tt2204108', 'tt2204924', 'tt2202389', 'tt2203859', 'tt2203808', 'tt2203842', 'tt2204283', 'tt2693018', 'tt2697770', 'tt2698106', 'tt2698206', 'tt2699840', 'tt2699762', 'tt2700772', 'tt2700558', 'tt2701088', 'tt2700466', 'tt2705192', 'tt2697322', 'tt2700114', 'tt3361808', 'tt3361794', 'tt3361182', 'tt3360828', 'tt3364316', 'tt3366000', 'tt3370900', 'tt3369826', 'tt3368814', 'tt3371582', 'tt3374866', 'tt3373912', 'tt3376648', 'tt3376252', 'tt3379232', 'tt3377796', 'tt3378362', 'tt3377886', 'tt3381468', 'tt3381570', 'tt3883976', 'tt3883454', 'tt3888418', 'tt3885704', 'tt3889166', 'tt3889100', 'tt3884666', 'tt3889644', 'tt3891580', 'tt3891920', 'tt3893826', 'tt3894340', 'tt3898080', 'tt3899070', 'tt3899154', 'tt3898244', 'tt3899380', 'tt3895838', 'tt3893926', 'tt3899796', 'tt3901012', 'tt3905756', 'tt3901818', 'tt3901162', 'tt3901962', 'tt4813906', 'tt4809254', 'tt4815204', 'tt4814760', 'tt4814290', 'tt4817500', 'tt4818474', 'tt4818776', 'tt4823524', 'tt4828680', 'tt4832364', 'tt4827246', 'tt4829642', 'tt4828600', 'tt4829108', 'tt4831420', 'tt4831810', 'tt4835102', 'tt4835318', 'tt4835926', 'tt4835804', 'tt4839414', 'tt4840298', 'tt4841464', 'tt4839430', 'tt4835894', 'tt4836052', 'tt4836384', 'tt4836794', 'tt4837396', 'tt4837290', 'tt4839432', 'tt4843318', 'tt4845720', 'tt4844176', 'tt5091014', 'tt5091530', 'tt5091108', 'tt5094040', 'tt5095194', 'tt5094914', 'tt5104330', 'tt5109302', 'tt5110386', 'tt5112578', 'tt5111550', 'tt5112462', 'tt5114154', 'tt5113868', 'tt5118062', 'tt5120010', 'tt5118616', 'tt5119116', 'tt5116504', 'tt5121816', 'tt5125582', 'tt5126730', 'tt5125668', 'tt5126274', 'tt5127812', 'tt5127918', 'tt5136540', 'tt5136686', 'tt5139394', 'tt5140226', 'tt5140878', 'tt5141620', 'tt5142086', 'tt5143110', 'tt5143226', 'tt5143926', 'tt5150426', 'tt5147510', 'tt5152606', 'tt5155780', 'tt5159414', 'tt5159408', 'tt5157052', 'tt13242792', 'tt13256150', 'tt13273558', 'tt13279128', 'tt13316130', 'tt13323766', 'tt13331612', 'tt13346998', 'tt13363622', 'tt13369410', 'tt13374328', 'tt13380636', 'tt13445838', 'tt13476294', 'tt13483994', 'tt13485508', 'tt13486272', 'tt13490714', 'tt13490422', 'tt10488438', 'tt10492754', 'tt10492778', 'tt10494498', 'tt10495404', 'tt10497826', 'tt10498850', 'tt10498810', 'tt10497516', 'tt10499108', 'tt10498478', 'tt10499936', 'tt10497914', 'tt10499300', 'tt10503012', 'tt11750326', 'tt11750282', 'tt11749980', 'tt11747978', 'tt11750260', 'tt11749482', 'tt11752970', 'tt11756502', 'tt11755386', 'tt11757782', 'tt11758948', 'tt11759580', 'tt11761284', 'tt11759182', 'tt11761282', 'tt11761850', 'tt11760210', 'tt11760270', 'tt13786562', 'tt13788046', 'tt13786492', 'tt13793884', 'tt13793000', 'tt13793428', 'tt13796242', 'tt16912492', 'tt16951398', 'tt16954632', 'tt16960952', 'tt16965118', 'tt16967964', 'tt16968426', 'tt16968876', 'tt16969742', 'tt26758292', 'tt26761217', 'tt26761313', 'tt26761732', 'tt26762096', 'tt26762535', 'tt26762793', 'tt26762997', 'tt7042224', 'tt6814204', 'tt6869360', 'tt7428098', 'tt5555410', 'tt10100872', 'tt10137406', 'tt1018764', 'tt0926094', 'tt0928191', 'tt0929280', 'tt0934533', 'tt0934427', 'tt1119212', 'tt1119664', 'tt1121108', 'tt1121949', 'tt1121974', 'tt1338653', 'tt1339050', 'tt1339071', 'tt1339040', 'tt1339063', 'tt1339166', 'tt1339178', 'tt1339532', 'tt1339672', 'tt1340139', 'tt1340600', 'tt1340599', 'tt1340560', 'tt1340561', 'tt1480698', 'tt1480649', 'tt1482383', 'tt1482446', 'tt1653881', 'tt1655617', 'tt1655400', 'tt1878932', 'tt1879072', 'tt1880230', 'tt1880319', 'tt1880220', 'tt2267848', 'tt2268399', 'tt2269920', 'tt2271289', 'tt2270486', 'tt2271503', 'tt2795608', 'tt2797346', 'tt2797786', 'tt2800302', 'tt2800486', 'tt2803236', 'tt2805316', 'tt2805550', 'tt3521682', 'tt3521758', 'tt3521746', 'tt3522700', 'tt3522414', 'tt3522368', 'tt3525858', 'tt3525764', 'tt3527068', 'tt3524542', 'tt3526430', 'tt3527516', 'tt4355236', 'tt4355416', 'tt4360406', 'tt4360490', 'tt4360272', 'tt4361078', 'tt4362764', 'tt4363260', 'tt4364862', 'tt4361472', 'tt4365184', 'tt4365576', 'tt4365336', 'tt5175332', 'tt5177386', 'tt5175604', 'tt5173032', 'tt5177846', 'tt5180990', 'tt5182126', 'tt5183186', 'tt5186860', 'tt5187346', 'tt5738264', 'tt5740994', 'tt5744330', 'tt5752606', 'tt5751150', 'tt5751998', 'tt5755298', 'tt5754992', 'tt5767338', 'tt5767628', 'tt5763122', 'tt5765148', 'tt5764848', 'tt5773172', 'tt5779140', 'tt5777392', 'tt5776208', 'tt6116568', 'tt6125742', 'tt6131682', 'tt6133484', 'tt6132066', 'tt6141334', 'tt6143850', 'tt6144410', 'tt6151048', 'tt6156656', 'tt6169694', 'tt6173418', 'tt6185266', 'tt6186696', 'tt6195094', 'tt6205658', 'tt6211976', 'tt6217306', 'tt6222286', 'tt6220752', 'tt6224502', 'tt10698426', 'tt10699198', 'tt10702346', 'tt10707200', 'tt10706724', 'tt10709060', 'tt12059646', 'tt12061308', 'tt12064142', 'tt12070504', 'tt12076472', 'tt12076272', 'tt14130708', 'tt14143006', 'tt14142872', 'tt14142640', 'tt18569630', 'tt18570540', 'tt18573810', 'tt18673794', 'tt18688348', 'tt27215062', 'tt27235287', 'tt27241513', 'tt27236215', 'tt27251096', 'tt27250288', 'tt27250168', 'tt27262238']\n",
      "1453\n",
      "1\n",
      "300\n",
      "150\n",
      "150\n",
      "300\n",
      "253\n"
     ]
    }
   ],
   "source": [
    "archivo = \"peliculas.csv\"\n",
    "\n",
    "dataframe = pd.read_csv(archivo)\n",
    "\n",
    "lista_pelis_API = dataframe['Id'].tolist()\n",
    "print (lista_pelis_API)\n",
    "print(len(lista_pelis_API))\n",
    "\n",
    "# corto la lista que es muy grande en listas de 300 elementos\n",
    "\n",
    "pelis_API_1 = lista_pelis_API [0:300]   #1 hora\n",
    "pelis_API_2 = lista_pelis_API [300:600] #1 hora\n",
    "pelis_API_3 = lista_pelis_API [600:750] #1 hora\n",
    "pelis_API_4 = lista_pelis_API [750:900] #1 hora\n",
    "pelis_API_5 = lista_pelis_API [900:1200] #1 hora\n",
    "pelis_API_6 = lista_pelis_API [1200:1455] # <1 hora\n",
    "print(len(pelis_API_1))\n",
    "print(len(pelis_API_2))\n",
    "print(len(pelis_API_3))\n",
    "print(len(pelis_API_4))\n",
    "print(len(pelis_API_5))\n",
    "print(len(pelis_API_6))"
   ]
  },
  {
   "cell_type": "code",
   "execution_count": 4,
   "metadata": {},
   "outputs": [
    {
     "name": "stderr",
     "output_type": "stream",
     "text": [
      "100%|██████████| 1/1 [01:08<00:00, 69.00s/it]\n"
     ]
    }
   ],
   "source": [
    "\n",
    "def detalles_peliculas(pelis_API_1):\n",
    "    \n",
    "    lista_IMDB_peliculas1 = []\n",
    "    driver = webdriver.Chrome()\n",
    "    driver.maximize_window()\n",
    "    driver.get(\"https://www.imdb.com/\")\n",
    "    sleep(3)\n",
    "    \n",
    "    for pelicula in tqdm(pelis_API_1):\n",
    "        sleep(3)\n",
    "        busqueda1 = driver.find_element(\"css selector\", \"#suggestion-search\")\n",
    "        sleep(3)\n",
    "        busqueda1.clear()\n",
    "        sleep(3)\n",
    "        busqueda1.send_keys(pelicula, Keys.ENTER)\n",
    "        sleep(30)\n",
    "        \n",
    "        titulo = driver.find_element('css selector', '#__next > main > div > section.ipc-page-background.ipc-page-background--base.sc-304f99f6-0.fSJiHR > section > div:nth-child(4) > section > section > div.sc-e226b0e3-3.dwkouE > div.sc-9aa2061f-0.cyMUeu > h1 > span').text\n",
    "        sleep(4)\n",
    "        \n",
    "        try:\n",
    "            cali_imdb = driver.find_element('css selector', '#__next > main > div > section.ipc-page-background.ipc-page-background--base.sc-304f99f6-0.fSJiHR > section > div:nth-child(4) > section > section > div.sc-e226b0e3-3.dwkouE > div.sc-3a4309f8-0.bjXIAP.sc-9aa2061f-1.foKegm > div > div:nth-child(1) > a > span > div > div.sc-bde20123-0.dLwiNw > div.sc-bde20123-2.cdQqzc > span.sc-bde20123-1.cMEQkK').text\n",
    "        except:\n",
    "            cali_imdb = 'Desconocido'\n",
    "        sleep(3)\n",
    "        \n",
    "        try:\n",
    "            direc_imbd = driver.find_element('css selector', '#__next > main > div > section.ipc-page-background.ipc-page-background--base.sc-304f99f6-0.fSJiHR > section > div:nth-child(4) > section > section > div.sc-e226b0e3-4.gdkmhg > div.sc-e226b0e3-6.aQqbp > div.sc-e226b0e3-10.kRcXhr > section > div.sc-9aa2061f-3.iRxAxS > div > ul > li:nth-child(1) > div > ul > li > a').text\n",
    "        except:\n",
    "            direc_imbd = 'Desconocido'\n",
    "        sleep(3)\n",
    "        \n",
    "        try:\n",
    "            guion_imbd = driver.find_element('css selector', '#__next > main > div > section.ipc-page-background.ipc-page-background--base.sc-304f99f6-0.fSJiHR > section > div:nth-child(4) > section > section > div.sc-e226b0e3-4.gdkmhg > div.sc-e226b0e3-6.aQqbp > div.sc-e226b0e3-10.kRcXhr > section > div.sc-9aa2061f-3.iRxAxS > div > ul > li:nth-child(2) > div > ul > li > a').text\n",
    "        except:\n",
    "            guion_imbd = 'Desconocido'\n",
    "        sleep(3)\n",
    "        \n",
    "        try:\n",
    "            argum_imbd = driver.find_element('css selector', '#__next > main > div > section.ipc-page-background.ipc-page-background--base.sc-304f99f6-0.fSJiHR > section > div:nth-child(4) > section > section > div.sc-e226b0e3-4.gdkmhg > div.sc-e226b0e3-6.aQqbp > div.sc-e226b0e3-10.kRcXhr > section > p > span.sc-466bb6c-2.chnFO').text\n",
    "        except:\n",
    "            argum_imbd = 'Desconocido'\n",
    "        sleep(3)\n",
    "        \n",
    "        try:\n",
    "            driver.find_element('css selector', '#__next > main > div > section.ipc-page-background.ipc-page-background--base.sc-304f99f6-0.fSJiHR > section > div:nth-child(4) > section > section > div.sc-66ec1b32-0.kbbKze > div > div:nth-child(2) > button > span').click()\n",
    "            sleep(3)\n",
    "            driver.find_element('xpath', '/html/body/div[4]/div[2]/div/div[2]/div/div[2]/div/div[2]/div[2]/div/div[4]/a').click()\n",
    "            sleep(3)\n",
    "            durac_imbd = driver.find_element('css selector', '#runtime > div > ul > li > span').text\n",
    "        except:\n",
    "            durac_imbd = 'Desconocido'\n",
    "        \n",
    "        tupla_pelicula = (titulo, cali_imdb, direc_imbd, guion_imbd, argum_imbd, durac_imbd, pelicula)\n",
    "        lista_IMDB_peliculas1.append(tupla_pelicula)\n",
    "    \n",
    "    driver.close()\n",
    "    \n",
    "    df = pd.DataFrame(lista_IMDB_peliculas1, columns=['titulo', 'cali_imdb', 'direc_imbd', 'guion_imbd', 'argum_imbd', 'durac_imbd', 'id_pelicula'])\n",
    "    df.to_csv(\"lista_IMDB_peliculas3.csv\", index=False)"
   ]
  },
  {
   "cell_type": "code",
   "execution_count": null,
   "metadata": {},
   "outputs": [],
   "source": [
    "detalles_peliculas(pelis_API_1)"
   ]
  },
  {
   "cell_type": "markdown",
   "metadata": {},
   "source": [
    "# ROTTEN TOMATOES"
   ]
  },
  {
   "cell_type": "code",
   "execution_count": 2,
   "metadata": {},
   "outputs": [
    {
     "name": "stdout",
     "output_type": "stream",
     "text": [
      "['Las Travesuras de Super Chido', 'Velai Kidaichiruchu', 'Sor Batalla', 'Azaad Desh Ke Gulam', 'Suo ming fei dao', 'Contreras Gang', 'Pitong Gamol', 'Jiang hu ba mian feng', 'Sarphira', 'Alyas Lakay', 'Santo: la leyenda del enmascarado de plata', 'La sangre de un valiente', 'Young-guwa gongryong Zzu-Zzu', 'Que me entierren con la banda', 'Elaan', 'Hum Hain Bemisaal', 'Cesta peklem', 'Maanthrikam', 'End of the Line', 'Lone Tiger', 'Diljale', 'Kôshoku kunoichi ninpô-chô: Vâjin sunaipâ - bishôjo yôma-den', 'Terrain', 'Daava', 'Varnapakittu', 'Kudrat', 'Achanak', 'Salaakhen', 'Angaaray', 'A Waiter Tomorrow', 'Ispanska muha', 'NASCAR Racers: The Movie', 'Ostatnia misja', 'Anakiseuteu Anarchists', 'High Adventure', 'Death, Deceit & Destiny Aboard the Orient Express', 'Kyo Kii... Main Jhuth Nahin Bolta', 'Virtualna stvarnost', 'Ravanaprabhu', 'ReBoot: My Two Bobs', 'Waah! Tera Kya Kehna', 'Wolves of Wall Street', 'Masuuruhiito', 'Khadgam', 'Epoch: Evolution', 'De zaak Alzheimer', 'Batman: Dead End', 'Den sorte celle', 'Dai zek lo', 'Tere Naam', 'Shikaar', \"World's Finest\", 'Camp X-Ray: Ghosts of Guantánamo Bay', 'Chot [Aaj Isko, Kal Tereko]', \"Even If It's Wrong\", 'Tiempo de valientes', 'Seung ji san tau', 'The Cutting Edge 3: Chasing the Dream', 'Heroes', 'Phoo Action', 'Bonnie & Clyde vs. Dracula', 'La hora cero', 'Ascension 2', 'Revirements Fatals (V.F. de Deadly Twists)', 'USS Seaviper', 'The Life Kung-Fu', 'Looper', 'Supernatural Swamp Slaughter', 'Los 3 gallos Michoacanos', 'Fuck Duissan', 'Wrony', 'Under the cage', 'Ode to the Warriors', 'Boonie Bears, to the Rescue!', 'The Floor Whisper', 'Metal Gear Solid: A New Divide', 'Deprivation', 'Small Gains', 'Liam: The New Manager', 'Taanashah', 'Dagaalty', 'Tiger Man', 'Brew', 'An Awkward Encounter', 'Push Comes to Shovel, TX', 'Ladki: Enter the Girl Dragon', 'Rewind', 'Tokyo Revengers', 'Mashin Sentai Kirameijâ Za Mûbî: Bî-Bappu Dorîmu', 'The Lost and the Brave', 'Gaspard et Robinson', 'Night of the Cyclone', 'Pokhorony Stalina', 'Street Hunter', 'Goodfellas', 'Murder in Black and White', 'Le party', '18 anni tra una settimana', 'Aftermath: A Test of Love', 'Christmas on Division Street', 'Dead Again', 'Eyes of a Witness', 'Gigolo', 'Krhotine', 'Lightning Field', 'Cerro Torre: Schrei aus Stein', 'Modern Crimes', 'Final Shot: The Hank Gathers Story', 'Hamburger Gift', 'Hoffa', 'Miss America: Behind the Crown', 'Modelo antiguo', 'No Dia dos Meus Anos', 'Bob Roberts', 'Il giardino dei ciliegi', 'La vida conyugal', 'Fatalna nezhnost', 'Glädjekällan', 'The Hour of the Pig', 'Extreme Justice', 'Killing Car', 'Duo ming jie chu', \"L'enfer\", 'English, August', 'The Fence', 'Le fils préféré', 'Le fusil de bois', 'Foreign Student', 'Frihetsligan', 'Greyhounds', 'The Glass Shield', 'Liu mang yi sheng', 'Kong zhong xiao jie', 'Lao ni mei', 'Let It Be Me', 'The Babysitter', 'Habit', 'First Knight', 'Kingfish: A Story of Huey P. Long', 'Intimate Relations', 'El domini del sentits', 'Eskiya', 'The Funeral', 'Captive Heart: The James Mink Story', 'Como Nascem os Anjos', 'The Assassination File', 'Bolse vita', 'In the Company of Men', 'Moment of Truth: Into the Arms of Danger', 'The Life of Stuff', 'Loved', 'Le mani forti', 'Nettoyage à sec', 'Paradise Road', 'The Man with Rain in His Shoes', 'Johnny B Good', 'Never Tell Me Never', 'Pi', 'Fica Comigo', \"Dante's View\", 'Free Fall', 'Introducing Dorothy Dandridge', 'Invisible Child', 'Superlove', 'Lal Baadshah', 'Südsee, eigene Insel', 'Ungfrúin góða og húsið', 'Mohabbatein', 'Jadviga párnája', 'Her i nærheden', 'Madame Bovary', 'Hidden Blessings', 'The Luzhin Defence', 'Il ritorno del piccolo Lord', 'Beat', 'The Clean and Narrow', 'Last Orders', 'Gli amici di Gesù - Giuda', 'The Life and Adventures of Nicholas Nickleby', 'Nynke', 'Le stade de Wimbledon', 'Un homme à défendre', 'The Last Brickmaker in America', 'The Fourth Angel', 'The Point Men', 'No Good Deed', 'Lola vende cá', \"L'idole\", 'Fixing Frank', 'On Common Ground', 'El sueño de Ibiza', 'Novo', 'Local Boys', 'Figure in the Forest', 'Tre punto sei', 'Mister V.', \"Devil's Pond\", 'Les sentiments', 'Any Way the Wind Blows', 'Tauerngold', 'Firefight', 'Devot', 'An Unexpected Love', 'American Short', 'Mysterious Skin', 'Promised Land', 'Secuestro express', 'Company K', 'Die andere Frau', 'Forkerte navne', 'Kono yo no sotoe - Club Shinchugun', 'Eating Out', 'Shabd', 'La noche del hermano', \"Marilyn Hotchkiss' Ballroom Dancing & Charm School\", 'Resurrection: The J.R. Richard Story', 'Lying in Bed', 'Kein Himmel über Afrika', 'La petite Chartreuse', 'On a Clear Day', 'Oublier Cheyenne', 'Un mundo maravilloso', 'Aryan: Unbreakable', 'Fair Play', 'The Elder Son', \"Jaan-E-Mann: Let's Fall in Love... Again\", 'Chingaari', 'Inside Man', 'The Pursuit of Happyness', 'Lost and Found', 'Irina Palm', 'He Was a Quiet Man', 'Relative Obscurity', 'Lovely by Surprise', 'Afghan Knights', 'Der Zauber des Regenbogens', 'El corazón de la tierra', \"X's & O's\", 'Meine Mutter, mein Bruder und ich!', 'Older Than America', 'Float', 'No Exit', 'Varg', 'Sappho', 'Death Point', 'Ila Ayithe Ela', 'Gusti', 'Young Grandpa', '100 Inscritos', 'Eddy', 'Saboa', 'Like Crazy', 'What Momma Wants', 'Coffee with a Madman', 'Resistant', 'Fleeting', 'Chaco', 'Petya na moyata Petya', '1969', 'Mandela', 'Asbury Park', 'Too Unexpected', 'The Electrical Life of Louis Wain', 'Because We Are', 'Watcher', 'Vikrant Rona', 'Vuelta al perro', \"Men Don't Leave\", 'Meng gui ba wang hua', 'Thanksgiving Day', 'Thieves of Fortune', 'A Matter of Degrees', 'Teenage Mutant Ninja Turtles', 'Where the Heart Is', 'Terminal City Ricochet', 'Pure Luck', 'The Wizard of Oz', 'Zhi zai chu wei', 'San taam Ma Yue Lung', 'To hok wai lung', 'Un paradiso senza biliardo', 'Lunatics: A Love Story', 'Qiu yue', 'La reina anónima', 'Riens du tout', 'Shiko funjatta.', 'Sister Act', 'T Bone N Weasel', 'There Goes the Neighborhood', 'Terror in the Hot Tubs', 'Hak pau tin ha', 'The last border - viimeisellä rajalla', 'Pacco, doppio pacco e contropaccotto', 'Mrs. Doubtfire', 'Bank Robber', 'Body Bags', 'Roser og persille', 'Roulez jeunesse!', 'Wan 9 zhao 5', 'Mit moon cham on 2: Che chung', 'Nian nian you jin ri', 'Little Big League', 'Lovers, Lovers', 'Rám csaj még nem volt ilyen hatással', 'Wagons East!', 'Nine Months', 'Oryol i reshka', 'Nic smiesznego', 'Kids of the Round Table', 'Mollo tutto', 'The Perez Family', 'Die Mediocren', 'Mrs. Munck', 'Fu sheng', 'La lengua asesina', 'Faisons un rêve', \"Leneged Einayim Ma'araviyot\", 'Magic in the Mirror', 'Bangs', 'Chong qing ai qing gan jue', 'Taafé Fanga', 'That Darn Cat', 'Twin Town', 'Weihnachtsfieber', 'Reine & Mimmi i fjällen!', 'A Smile Like Yours', 'steve.oedekerk.com', 'Tales from the Far Side II', 'Five Wives, Three Secretaries and Me', 'Color-Blinded', 'The Gift', 'Ecco fatto', 'Homo Heights', 'Hinterholz 8', 'El grito en el cielo', 'Erakkorapu', 'Passion Killers', 'La nouvelle Ève', 'Zenon: Girl of the 21st Century', \"'Ne günstige Gelegenheit\", \"Doug's 1st Movie\", 'Otesánek', 'A Little Bit of Lipstick', '3 Chinesen mit dem Kontrabass', 'Les insaisissables', 'Vive nous!', 'Ping!', 'Bit Players', 'The Bunk Witch Project', 'Zenon: The Zequel', 'Jane', 'Mujhe Meri Biwi Se Bachaao', 'Jump Tomorrow', 'The Jimmy Show', 'Call Me Claus', 'Happy Now', 'Les âmes câlines', 'Dinner with Friends', 'Ein Sack voll Geld', 'The Santa Clause 2', 'Fish + Dog', 'Sex Is Comedy', 'Bobby', 'Film School Confidential', 'Nantucket', 'Si Graham Norton', 'Gate to Heaven', 'Grace', 'Cul de sac', 'Studio City', 'The R.M.', \"Gettin' Square\", 'Adam & Eva', 'Mirror Man', 'Ce jour-là', 'Wilby Wonderful', 'Süperseks', 'I Want to Marry Ryan Banks', 'Kad porastem bicu Kengur', 'Dontel papa', 'Bandwagon', 'Saving Face', 'Love on the Side', 'Sans Kapiyi Kirinca', 'Feast', 'Enfants terribles', 'The Essence of Irwin', 'In the Mix', 'Pardon', 'Almost Heaven', 'Irren ist sexy', 'Bernard and Doris', 'Peanuts', 'Eccezzziunale veramente - Capitolo secondo... me', 'Direktøren for det hele', 'Le rose del deserto', 'Raftáci', 'BoyTown', 'Gone to the Dogs', 'The Jimmy Timmy Power Hour 2: When Nerds Collide', 'Park', 'Bakom Snart är det lördag igen', 'Pornorama', 'Vratné lahve', 'One Long Night', 'Malta con Huevo', 'Free Rainer', 'World of Wrestling', 'The Ten', 'Pure Gasoline', 'At Sixes and Sevens', 'About A Short Film', 'Life As We Know It', 'Papers 14: Purge of the Papers', 'The Protector', 'Secret Society of Second-Born Royals', 'Unbreakable Kimmy Schmidt: Kimmy vs the Reverend', 'Café Mirage', 'The Addams Family 2', 'YOUTH TOPIA', 'One Minute Show', 'Ur spår', 'The Lost City', 'Full Throttle Paradise', 'Ça tourne à Saint-Pierre et Miquelon', 'Slumberland - Nel mondo dei sogni', 'Kiljuset!', 'Envol', 'Jak chutnà láska', 'Dream a Little Dream for Me', 'Clown Series 1-10', 'Pigeon', 'Strange Frequency 2', 'Criss Angel Mindfreak', 'Doraemon: Nobita to fushigi kazetsukai', 'Ta-Kien', 'The Grove', 'Criss Angel Supernatural', 'La petite feuille', 'Under a Shipwrecked Moon', 'Cult', 'Mosè e Faraone, o Il passaggio del Mar Rosso', 'O magos tis Venetias', 'The Initiation of Sarah', 'Reign of the Gargoyles', 'Star Wars: The Clone Wars', 'El que habita las alturas', 'The Hunt for Gollum', 'El sol', 'Finale', 'Out of the Fog', 'Chi bi: Jue zhan tian xia', 'Charlie St. Cloud', 'Gladiator Games', 'Aguarde, por favor!', 'Original Sin', 'Zookeeper', 'Vampire Madness', 'Portrait', 'The Future', 'In the Realms of Gold', 'Portraits: Emile, 98bit', 'Astral', 'Brightheart', 'Kiokuya: Anata o wasurenai', 'Lukøje', 'Hopsa Heisasa', 'Armugan', 'The Black Baptism', 'La mujer del Presidente', 'Darker Than Night', 'My Dog Is Sick', 'The New Frontier', 'Churuli', 'Fantasm', 'Spooked', 'Fool Moon', 'Pumpkin Night', \"A Very Merry Chris 'n' Craig Mas\", 'Skogen', 'Tales of Horror: The Judgment', 'Descendants of the Coven', 'Manic', 'Parkway', 'Il cerchio dei morti', 'Confession 3', 'It Returns from My Basement', 'Live Zombys: The Farm', 'Skin Deep', 'Maelstrom', 'A praga', 'Cabin', 'Slash Hive', 'Pervaya sopka. Mest beshenogo Gansalesa', \"Chiller's Dare 2 Direct Short Film Festival 2007\", 'Z-Day', 'Dead End', \"A Child's Toy\", 'When You Owe You Pay', 'Gap', '12 Minutes', 'Crna ovca u restoranu za zombije', 'Transmitted', 'The Sinister Grin', 'Kaj Upokojenci Skrivajo v Kleti', 'Sick Perverts', 'The Deadline', \"Don't Look Back\", 'Empaná de pino', 'Basura', 'Dok', 'Dawna of the Dead', 'Dead Ahead', 'Jour blanc', 'Djavolje Kolo', 'The Porthkerry Experience', '3 Wishes', 'Rak Lorn', 'Trepidation', 'Echo Park', 'Make It Nice', \"Star Wars: Don't Go in the Endor Woods\", 'The Tower', 'Zombie Noir', 'The Flea', 'Noise', 'The Forecast', 'Uhripuu - The Sacrifice Tree', 'A Carne', 'Nina Crazy Suicide Girl: Le Prigioniere di Satana', 'Alta Frecuencia', 'La raíz del mal', 'Slurpees', 'My Worst Nightmare', 'Vendrá la muerte y tendrá tus ojos', 'Het mysterie van de volle maan', 'Yoga hakwon', 'Spirale', 'Made Out Alive', 'Birth of a Nicola', 'Aa Intlo', 'Bloodbath', 'Buttf**ker', 'Cheun', 'Cheuuat gaawn chim', 'Pipe Wrench', 'Pengantin Pantai Biru', 'Ninjas vs. Vampires', 'White House', 'Malevolent Ascent', 'All Flowers in Time', 'A Taste', 'Blarghaaahrgarg', 'Bats in the Belfry', \"Don't Look Under the Bed\", 'Kalevet', 'Liebe oder nichts', 'Night of the Unwed', 'Easter Bunny Bloodbath', 'Closed Door', 'Le malinconiche pene del Grom', 'The Next', 'The Couple', 'The Unwelcome', 'The Brutalizer', 'Phobia', 'Within', 'The Withered Dead', 'Lancaster Square', 'Dead Search', 'The Hitchhiker', 'Call of Nature', 'Daddy Cross', 'Caustic Zombies', 'Hurst', 'Tingen, Edderkoppen', 'Am I', 'Dead End', 'Weeping', 'The Executive Producer', 'Flesh Art', 'Little Red', 'Darkwood Manor', 'Dead Bodies Everywhere', 'Versipellis', 'Foreplay', '12/12/2012', 'Kuntilanak-Kuntilanak', 'Ex Abyssus', 'Samayou shinzô', \"The Devil's Music\", 'File 13', 'The Hole', 'Six Ghosts', 'Kung Fu Pocong Perawan', 'Nenek Gayung', 'Children of the Grave 2', 'Too Focused', 'Exorsister', \"All the Fists in the World Won't Save You Now\", 'UNLV Massacre', 'Rakugo eiga', 'Paranormal Adoption', 'Morgana', 'Just Like You...', 'Pumpkin Morgue Paranormal Investigators: Touch the Sky', 'The Darkening', 'Clowning Around', 'Shivers Down Your Spine: Convention Girl', 'Hush', 'La Casa De Arriba', 'Friends', 'Soleil rouge', 'Dead of Winter', 'Hellhounds', 'Bhoner: The Movie', 'Until Death', 'Ridge War Z', 'Midnight Man', 'Porcelain Rising', 'Liebe', 'Estrela Radiante', 'Enter If You Dare: House on Creepy Lane Part 2', 'El misterio de Vera Drudi', 'Fear: The Movie', 'The Coed and the Zombie Stoner', 'Saikin, chôchô wa...', 'Unnatural History', 'Reset', 'Skyglow', 'Funhouse', 'Ban khang winyan', 'Hong lork lorn', 'Salvation Jane', 'Maria', 'Picture Particles', 'Guilt', 'Icky', 'Body in Boot', 'Ruka', 'Found Footage: The Lost Genre', 'Sandarsakan - The Visitor', 'Precocious Movie Kids', 'Out of Breath', 'Creature', 'Mr. Dentonn', 'Behind Closed Doors', 'The Left-Hand Path', 'The Right Girl', 'Nyctophobia', 'Demons', \"R.L. Stine's Monsterville: Cabinet of Souls\", 'GrossHouse', 'Slumlord', 'Haunted', 'Wide Spread', 'The Smiling Man', 'Follow', 'Rate Me', 'Sisters', 'The Wager', 'Hands of Wicked Men', 'Vacation', 'Thee Massacre: Drenched in Blood and Sweat', 'The Haunter of the Dark', 'StaggeR .0', 'Haman', 'Calling', 'Enter, Metanoia', 'Midnight Kiss', 'Kartoffelsalat', 'When the Night Falls', 'Snow Dayz', 'Hyde', 'Getting Ready for a Lunch Date', 'Who? What? Where? Wolf!!!', 'Tutorial', 'Friends Forever', 'Koritsia tis thalassas', 'The Call of Charlie', 'The Existential Zombie', 'She', 'Die Geur van Appelkose', 'Thrust of the Blade', 'Aurora', 'The Devilman', 'The spirit chaser', 'Zoombies', 'The Hand. Return', 'Slayer A.D.', 'Eternal Coma, 1994', 'The Puppet Man', 'Exscind', 'Staged', 'Patient Seven', 'Divination', 'Gritos del Monday', 'Çagrilan', 'Circles', 'Dusty', 'Vile Prey', 'Flamingo', 'Lake on Fire', 'Captured', 'Sacrilege', 'Kodomo tsukai', 'The Doll Master', 'The Atoning', 'Agatha', 'I Contacted Poison Control', 'Sleep No More', 'Wettlaufers Widow', 'Verónica', 'Eddie', 'Fagyott május', 'Svarta Madam', 'Over the Fairy Hill', 'O Vídeo 2', 'Orpheum', 'Attack of the Adult Babies', 'Birthday', 'Into the Black', 'Lunch Box', 'The City of Gold', 'CobraGator', '3:15 AM', 'Bacao', 'Inner Ghosts', 'Black Pumpkin', 'Malacostraca', 'Achoura', 'Hunted: Outbreak', 'Exit 14', \"Moma's Spirit\", 'Something in the Dark', 'Ghost Walks', 'Virus of the Dead', 'Eat Me', 'The Key and the Answer', 'The Snarling', 'Ben: The Movie', 'La nuit a dévoré le monde', 'Seven Stages to Achieve Eternal Bliss by Passing Through the Gateway Chosen by the Holy Storsh', 'Seven in Heaven', 'Chuck Steel: Night of the Trampires', 'West of Hell', 'The Iced Hunter', 'American Exorcist', 'Blackout', 'The Beast of Calvary Creek', 'Hide in the Light', 'Seen', 'Blood Vow', 'Mulgoe', 'Pumpkins', 'Finding GrassMan', 'Slice', 'The Spiritualist', 'Boogeyman Pop', 'Island of the Dolls', 'Aux', 'Killing Joan', 'In Memory Of', 'I Think You Should Flee', 'Necronomicón', 'Rumah Belanda', 'Bigfoot', 'Tainted Love', 'Headgame', 'A Novel Tale of Grave Danger', 'Darkness Reigns', 'Overlord', 'Kembalinya Anak Iblis', 'Locker', 'La llorona', 'Unity', 'Slaughterhouse Slumber Party', 'The Slit-Mouthed Woman', 'Punisher', 'Dibbuk', 'A Haunting at The Octagon Mansion', 'Birds of a Feather', 'It Whispers', 'Violeta', 'Gray Matters', \"By Night's End\", \"Texas Death Trippin'\", 'I Want Mommy', 'Maledictus', 'Alyti', 'Vacant Rooms', 'The Fork', 'Ashes', 'Return To Haddonfield', 'Hora de cenar', 'The Ferryman', 'Locked In', 'Blackface', 'Insight of Evil 2: Vengeance', 'Legend of Takawa', 'My Boyfriend the Boogeyman', 'The Hitchhiker', 'The Painter', 'Clowning Around', 'From Outside', 'FEIC - Fonti eminenti inconfutabili confermano', 'Momma', 'Widow Maker: The Soul-Sucking Dog', 'Critical Perfection', \"Don't Worry, You Don't Exist\", 'Alone', 'Nederlands-Engels Woordenboek', 'Capture', 'Catalyst', 'Tapes', 'Strange Encounters', 'Bite Me', 'Plu-ral', 'Toby Doll', 'In My Name', 'Domain', 'Watching You', 'Peer', 'Envy', 'Life.', 'Fame Fatale', 'Night, Night, Baby 3: Goodnight Forever', 'Gold Coins', 'Grindsploitation 9', 'IRUL: Ghost Hotel', 'No Return', 'A Chamada', 'Emory Woods', 'The Pack', 'Miracle Valley', 'Doppelgänger', 'The Faraway Place', \"Don't Look in the Basement\", 'Haunted Universities 2nd Semester', 'Blood and Black Lace', 'Scream: Fan Film', 'OST', 'Mittel Würffel', 'MORBIUS', \"Winter of '83\", \"Who's There\", 'Backrooms Found Footage', 'DIEver', 'No: 26 Ölüm Çigligi', 'Hide and Seek', 'Iblis: Karanligin Sahibi', 'Aranya Sen', 'The Cleansing', 'Piranha Women', 'Erecting A Monster', 'Terroir', 'Peripheral', 'RiffTrax: Zombie Nightmare', 'The Killer Balloon', 'Trash Juice', 'Wanna Play A Game', 'The knifemare', 'Day 66', 'Wicked Fright', 'The Poors', 'Ghunghroo', 'Slumber Hunger', 'Beholder', 'GhostGame', 'Vloek: kutukan', 'Noctambule', 'Tape X', 'A nap...', 'Paradise Hell', 'Barbatachtian 5: Alive', 'Mansplained', 'Blackwater', 'The Hand', 'Perfect Match', 'Meera Ka Mohan', 'Sana kahit minsan', 'Qaid Mein Hai Bulbul', 'Boy Friend', 'Kanmani', 'Pehla Pehla Pyar', 'Amor que mata', 'Rasigan', 'Headphoneul beosheora', 'Pinkbit gangtong', 'Nuga naleul michige haneunga', 'Haqeeqat', 'Tranzito', 'Endoresu warutsu', 'I zoi enamisy hiliariko', 'Vizio e provocazione', 'Kirot 2', 'Sri Krishnarjuna Vijayam', 'Jincha sanai', 'Istanbul Kanatlarimin Altinda', 'Udyanapalakan', \"D'amour et d'eau salée\", 'Kaathil Oru Kinnaram', 'Un homme', 'Flames: The Movie', 'Mohabbat', 'Sled kraja na sveta', 'Wuthering Heights', 'Doli Saja Ke Rakhna', 'Prem Aggan', 'Bun siu hai', 'Dolphins', 'Shôjo kakumei Utena: Adolescence mokushiroku', 'Liebe versetzt Berge', 'Deadtime', 'Sirf Tum', 'Inteha', \"Papa's Angels\", 'Jis Desh Mein Ganga Rehta Hain', 'Bangkok Dangerous', 'A kis utazás', 'Parsley Days', 'One True Love', 'Boychick', 'Wonder', 'Personals: College Girl Seeking...', 'Say Nothing', 'Wai See Lee: Lam huet yan', 'Regentage', 'Romance', 'Akala mo...', 'Sam & Janet', 'Blue', 'Ya no los hacen como antes', 'Walang kapalit', 'Parwana', 'Hob el banat', 'Pride and Prejudice', \"Il posto dell'anima\", 'This Car Up', 'Wuthering Heights', 'Okkadu', 'Laam seung lui gwong', 'Muskaan', 'Der Traum vom Süden', 'Shart: The Challenge', 'Running Without Sound', 'Slutty Summer', 'All My Life', 'Boy Meets Girl Stories #4: Geen antwoord', 'Dubai', \"The Dive from Clausen's Pier\", 'Elsa y Fred', 'Sachein', 'Mama und der Millionär', 'Cumbia callera', 'Red: The Dark Side', 'Oviedo Express', '14 Days in Paradise', 'Blue Butterfly', 'Deh Sukh 2', 'Sayonara made no 30-bun', 'Womanhood', 'Sunny, Pomona', 'In a Sentimental Mood', 'Infame', 'Askin Gönül Yazisi', 'Un novio para mi mujer', 'Hatya', 'Osman Sekiz', '82 Bunsho', 'Mi mi da zhui sha', 'Pigilin natin ang dilim', 'Eight Ball', 'Eight Ball', 'Wait a Minute', 'Jahan Pyaar Mile', 'Assassini per caso', 'Kureyon Shinchan: Arashi o Yobu Janguru!', 'All in Theory', 'Primavera di granito', 'Mensagem', 'Mere Aagosh Mein', 'The Naked Truth', 'Ek Nari Do Roop', 'Uff Yeh Nasha', 'Empty Mirror', 'Sparsha', 'Dr. Munshir Diary', 'Dear Father', 'X dang an Sha wu she', 'Mutham', 'Meitantei Conan: Ginyoku no kijutsushi', 'Triple Raped', 'Wednesday Afternoon', 'Ab... Bas!', 'Playing God', 'Per giusto omicidio', 'Suicide Run', 'Ömer Seyfettin: Perili kösk', 'Lisa', '13 segundos', 'Backhand', 'The Silver Rope', \"Her Sister's Keeper\", 'Room 36', 'Second Sight', '3 Days of Darkness', 'Paper Girl', 'Le rédempteur', 'Sebastian & Alan', 'Oftalmós', 'Loop', 'Gekijô ban Kara no kyôkai: Dai isshô - Fukan fûkei', 'The Interrogation', 'Green Eyed Monster', 'Divar', '25Gs', 'Nocturnos', 'Rabid Rage', 'Class Savage', 'Ru-Ba-Ru', 'Troglodyte', 'Hush', 'Interpretation', 'Frozen Seed', 'El ataque de los robots de nebulosa-5', 'Muñeco viviente V', 'Christian Blake', 'Quarto 38', 'Trickery Mimicry', 'Good People', 'Tuesday', 'Blacke Revenant', 'Dark Heart', 'Apparition', 'Ek: The Power of One', 'The Lower Circle', 'Fueled', 'Intruder', 'Faux Finish', 'Go Quietly', 'Lateral Us', 'Hector Corp.', 'Among Thieves', 'The Cold Day in Hell', '6079_Zn', 'Periferic', 'La casa muda', 'Vulture', 'The Raven', 'The Bird Curse', 'Wasted on the Young', 'In', 'Bbuddah... Hoga Terra Baap', 'Black Pond', 'Eye of the Storm', 'One Shot', 'Fatale', 'Maniac', '30 días antes', 'ENEMY: In the Deep, Dark Corners', 'Revived', 'Remains', 'Ibn el-Qunsul', 'Turn', 'Famous', 'Instant Message', 'Heaven Sent', 'When the Clock Strikes Midnight', 'Christmas Twister', 'Distants', 'Stalker', 'Code 72', '¡Atraco!', 'Hiccup', 'Emily', 'Beneath the Ink', 'Offeret', 'Shallow', 'Some of Angela', 'Kobieta Plus Drzewo', 'Sins', 'Follow', 'Wishful Thinking', 'Final Offense', 'John Day', 'The Necklace', 'Rough Waters', 'Back Up', 'OperHator', 'A Shameless Revenge', 'Broken Knuckles', '2013: Holocaust', 'Jinrui shikin', \"Devil's Corner\", 'Tin Man', 'Joy Burn', 'Necrofobia', 'Client Seduction', 'Sorority Surrogate', '5', 'Nona', 'Killing Daddy', 'The Truth', 'Purgatorio', 'Where Is Alice?', 'The Dark', 'Ithu Charuvoda Dating', 'Compass Rose', 'Gone in the Dark', 'Tangled Wire', 'Venial', 'Norman Hyde', 'Water', 'Curse of Mesopotamia', 'Xanadu', 'A Boy Named Bellamy', 'Kadavul Paathi Mirugam Paathi', 'Night Fare', 'Tiger Lily', 'Franklin: A Symphony of Pain', 'Mae Day', 'Lights Out', 'Revolve', 'Mile End', 'Ellos Volvieron', 'Depth of a Dark Side', 'Gone Tomorrow', 'Savageland', 'Madison Lane', 'Sons of the Wicked', 'Last Pickup', 'Madam Trigger', 'Sharknado 3: Oh Hell No!', 'Bird Watching', 'Her Infidelity', 'Loss', 'For Jean-Pierre Melville', 'Sendero', 'Saving Dreams', 'Inside Scarlett', 'Apocalypse Road', 'Here Alone', 'Te3n', 'Ectoplasm', 'A Beautiful Mess', 'Lens', 'Good Tidings', 'Zhen xiang jin qu', \"Break in at Sam Palmer's House\", 'Scattered', \"Dean's Well\", 'Inches from the Ground', 'Promotion', 'Sharknado 4: The 4th Awakens', 'The Loner', 'Blank Face', 'Soldier Bee', 'Purasangre', 'Four Walls', 'No Good Heroes', 'Lioness', 'Flickan, mamman och demonerna', 'Taste', 'MiddleMan', 'Only She Knows', 'Night Shifts', 'Jake', 'Enemy Within', 'Yassine Movie', 'Emily and the Lightning', \"An Idle Mind Is the Devil's Playground\", 'Blood is a prisoner', 'My Father Has a Choice', 'Jasper Jones', 'M.F.A.', 'O lyubvi', 'Watch the Sunset', 'Echoes of the Passed', 'Cold Brass', 'Kyrsyä - Tuftland', 'Ghost Note', 'One Under the Sun', 'Super Dark Times', 'Noctem', 'Cassette', 'The Keeping Hours', 'Veras Mantel', 'Adam', 'Perfect sãnãtos', 'Alien Shadows', 'Pyewacket', 'True to the Game', 'El bar', 'Vo veki vechnye', 'A Good Dream', 'Stand Up', 'O Animal Cordial', 'Awakening', 'A Simple Job', 'Hitchhiker', 'Skinford', 'Xenophilia', 'The Good Machine', 'Annabelle: Creation', 'Triangle', 'The Dissection of Jack & Jill', 'Seth', '12 Feet Deep', 'Smoke', 'Lost in Tokyo', 'Reverend', 'Illicit', 'The Discovery', 'Escape Room', 'Nibunan', 'Nightworld', 'The Scenic Route', 'Dogface', 'Paradise', 'Nightswims', 'Iniquitous Interrogation', 'Interior', 'Sweet Like Poison', 'Valentine Day Ka Side Effect', 'Reflection', 'Obscurity', \"L'oscura presenza - Prologo\", 'Run for Your Life', 'Werewolf Game: Prison Break', 'Wost Prom Ever', 'The Man in the Bowler Hat', 'Kesikbas', 'Vefk: Ölüm çagirdi', 'Celebr8', 'Woke', 'The Parable of Allison', 'Entanglement', 'The Woe Land Saga, Chapter 1: ingrID', 'I Love You', 'Dream_Girl', 'Casablanca', 'The Devil She Knows', 'Annabellum: The Curse of Salem', 'Hamlet Pheroun', 'Caliche Run', 'The Amazing World of Emma', 'Alternate', 'Midnight Ruins', 'Guilt', 'The Factory at Echo Lake', 'Morally Relativistic', 'Voces', 'Tarung Sarung', 'Die Waschmaschine', 'The Mountain Kings', 'The Rift - Candidate 23', 'Tick Tick Tick', 'The Instrument', 'Friend', 'Unleash the Rage', 'Freeze Your Brain', 'Hannah & the Friend Zone', 'Dispute - II A film by mirzamlk', 'Half the Man', 'Sam', 'Harassed', 'f/0', 'BIR', 'White Noise', 'Yug the law of karma', 'Season of the Worm', 'Outlier', 'Rare', 'The 2nd Wave', 'The Last Two Days', 'Bumper Policy', 'Regalo', 'Non-Disclosure', 'The Replacements', 'Gangs of 18', \"Daddy's Little Nightmare\", 'Night at the Neptune', 'Lesion', 'Noche Americana', 'Kinjirareta asobi', 'Detektor', 'Kukolnik', 'Watching Amber', 'Streaming', 'Biet', 'Graveyard of Dreams', 'Ako si Ninoy', 'Perdue de vue', 'Sheyal Debota Rahasya', 'Southwest', 'The Victim', 'Marie-Madeleine,', 'Addi Tappaa', 'Andalus', 'One piece: Omatsuri danshaku to himitsu no shima', 'Kristallportale', 'Lion', 'The Silver Rope', 'Seul', 'Number 13', 'Liu hao chu kou', 'The Sled', 'Reflections', 'Voces', 'Kirksdale', 'The Truth About Faces', 'Panama', 'Aswang: A Journey Into Myth', 'Cowboy', '7', 'The Ceremony', 'Sessions of the Mind', 'Sunshine Away', 'A Brush with Murder', 'Pantomima', \"Where's Dookie Cannata?\", 'A Noble Way', 'The Mystery of the Missing Matron', 'Cellule 66', 'The Chauffeur', 'Veracity: We All Shine On', 'Accused at 17', 'Awaken', 'Encrucijada', 'Kamisama herupu!', 'Be-seu-teu-sel-leo', 'Gôsuto', 'Exposed', 'The Key to Annabel Lee', 'I Have Loved', 'Save the Planet', 'Hij', \"World's End\", 'Ceaseless', \"You're Not Safe Here\", 'Der letzte Regen', \"Palla al matt'\", 'Nigaoe sôsakan 001 gô', 'The Telling', 'Specimen 0625c', 'Powrót', 'Spirit Cabinet', 'Silent Spectrum', 'Return of the Body Snatchers', 'The Lost Mantle of Elijah', 'Tierra escarlata', 'White Rabbit', 'Bad-Guy', 'The Good Sister', 'The Ark of the Witch', 'Toybox', 'M is for Mobile', 'Cárcere Privado', 'Status: Unknown', 'A Rainy Day', 'Anti Cupido', 'After the Third Bell', 'Tokyo Flow', 'Lost Boy', 'Out of the Box', 'Pinku to gurê', 'Jacquerie', 'High Phantom Playback', 'Anomie', 'Crumbs', 'The Mine', 'Romantically Speaking', 'DristiBhram', 'Visited', 'Velkommen til Paradis', 'Die: Lianhua', 'Death at the Christmas Tree Party', 'The Missing Knife', 'The Dead End', \"Buster's Mal Heart\", 'The Serene Heartache', 'Gridlock', 'Moretta', 'Sparte', 'La verità sta in cielo', 'Within Circles', 'Aibô: Gekijô-ban IV', 'The Moose Head Over the Mantel', 'Flock', 'Maze', 'Prophecy Eleven', 'Small Town Crime', 'Light Drifter', 'The Landing', 'Unbound', \"Kill 'Em All\", 'Bandwidth', 'Shadow of Doubt', 'Hindsight', 'La Perla', 'The Veiled', 'Disobeying the Laws of Sky Tyrants', 'Resident Evil: Vendetta', 'Making a Killing', \"He Didn't Even Leave a Note\", 'Nasty', 'Raakshas', 'On the Other Side', 'The Black String', 'Distorted', 'Open Wound: The Über-Movie', 'Between the Trees', 'Astro', \"I Think We're Alone Now\", 'Unconditional', 'Something', 'La femme la plus assassinée du monde', 'Ghostland', 'Blindsided', 'A Vigilante', 'Apostle', 'Perfect', 'Pledge', 'Boarding School', 'Lampor: Keranda Terbang', 'Daddy', 'Exile', 'A la bibliothèque', 'Afflatus', 'Game Over', 'Anonymous Vol. 1 - The Dreamland Adventures the Mysteries of Atlantis', 'Join Us', 'Cecily and Lydia at the Waypoint', 'Doris', 'COVID-19 ; E.I.N.S.: E.scape I.nto N.ature S.pace', 'Shadowed', 'Den Japanska Illusionen', 'Telestesia', 'I Said', 'Bannerghatta', 'The Quiet Light of the Midnight Cold', 'Desvío', 'F', 'The Turn Ahead', 'Maksym Osa', 'Sight', 'Agents of Change: Project Polymer', 'Khitrovka. The Sign of Four', 'Sight', 'Der Wien-Krimi: Blind ermittelt - Tod an der Donau', 'Marne Ke Dar Se Mere Dil', 'Red Wine', 'Magna Lacerta']\n",
      "1454\n",
      "300\n",
      "300\n",
      "300\n",
      "300\n",
      "254\n"
     ]
    }
   ],
   "source": [
    "archivo = \"FaseI_datos_API_final.csv\"\n",
    "\n",
    "dataframe = pd.read_csv(archivo)\n",
    "\n",
    "lista_pelis_API = dataframe['Titulo'].tolist()\n",
    "print (lista_pelis_API)\n",
    "print(len(lista_pelis_API))\n",
    "\n",
    "# corto la lista que es muy grande en listas de 300 elementos\n",
    "\n",
    "pelis_API_1 = lista_pelis_API [0:300]   #1 hora\n",
    "pelis_API_2 = lista_pelis_API [300:600] #1 hora\n",
    "pelis_API_3 = lista_pelis_API [600:750] #1 hora\n",
    "pelis_API_4 = lista_pelis_API [750:900] #1 hora\n",
    "pelis_API_5 = lista_pelis_API [900:1200] #1 hora\n",
    "pelis_API_6 = lista_pelis_API [1200:1455] # <1 hora\n",
    "print(len(pelis_API_1))\n",
    "print(len(pelis_API_2))\n",
    "print(len(pelis_API_3))\n",
    "print(len(pelis_API_4))\n",
    "print(len(pelis_API_5))\n",
    "print(len(pelis_API_6))"
   ]
  },
  {
   "cell_type": "code",
   "execution_count": 16,
   "metadata": {},
   "outputs": [],
   "source": [
    "\n",
    "def valoracion_tomatometro(pelis_API_1):\n",
    "    \n",
    "    lista_tupla_tomatoes1 = []\n",
    "    driver = webdriver.Chrome()\n",
    "    driver.maximize_window()\n",
    "    driver.get(\"https://www.google.com/\")\n",
    "    driver.find_element(\"css selector\", '#L2AGLb > div').click()\n",
    "    \n",
    "    for nombre_peli_r in tqdm(pelis_API_1):\n",
    "        sleep(3)\n",
    "        busque_google = nombre_peli_r + ' Tomatometer'\n",
    "        sleep(3)\n",
    "        busqueda2 = driver.find_element(\"css selector\", '#APjFqb')\n",
    "        busqueda2.clear()\n",
    "        busqueda2.send_keys(busque_google, Keys.ENTER)\n",
    "        sleep(5)\n",
    "       \n",
    "        try:\n",
    "            resultado1 = driver.find_element(\"css selector\", '#rso > div:nth-child(1) > div > div > div:nth-child(3) > div > span:nth-child(2)').text\n",
    "            tomatometter = resultado1.replace('Valoración:', ' ').strip()\n",
    "        except:\n",
    "            tomatometter = 'Desconocido'\n",
    "                    \n",
    "        tupla_pelicula = (nombre_peli_r, tomatometter)\n",
    "        lista_tupla_tomatoes1.append(tupla_pelicula)\n",
    "\n",
    "    driver.close()\n",
    "    \n",
    "    df = pd.DataFrame(lista_tupla_tomatoes1, columns=['nombre_peli_r', 'Tomatometter'])\n",
    "    df.to_csv(\"lista_tupla_tomatoes1.csv\", index=False)\n"
   ]
  },
  {
   "cell_type": "code",
   "execution_count": null,
   "metadata": {},
   "outputs": [],
   "source": [
    "valoracion_tomatometro(pelis_API_1)"
   ]
  }
 ],
 "metadata": {
  "kernelspec": {
   "display_name": "Python 3",
   "language": "python",
   "name": "python3"
  },
  "language_info": {
   "codemirror_mode": {
    "name": "ipython",
    "version": 3
   },
   "file_extension": ".py",
   "mimetype": "text/x-python",
   "name": "python",
   "nbconvert_exporter": "python",
   "pygments_lexer": "ipython3",
   "version": "3.11.6"
  }
 },
 "nbformat": 4,
 "nbformat_minor": 2
}
