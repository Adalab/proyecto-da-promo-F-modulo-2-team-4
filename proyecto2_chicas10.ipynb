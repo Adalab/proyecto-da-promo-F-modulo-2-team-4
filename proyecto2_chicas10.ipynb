{
 "cells": [
  {
   "cell_type": "code",
   "execution_count": 1,
   "metadata": {},
   "outputs": [
    {
     "name": "stdout",
     "output_type": "stream",
     "text": [
      "{'page': 1, 'next': None, 'entries': 0, 'results': []}\n"
     ]
    }
   ],
   "source": [
    "import requests\n",
    "import pandas as pd\n",
    "import re\n",
    "\n",
    "url_drama = \"https://moviesdatabase.p.rapidapi.com/titles\"\n",
    "\n",
    "querystring = {\"genre\":\"drama\",\"startYear\":\"1990\"}\n",
    "\n",
    "headers = {\n",
    "\t\"X-RapidAPI-Key\": \"04633baed7mshe8328b8ffd196b0p1b4d42jsnc0ad308dab73\",\n",
    "\t\"X-RapidAPI-Host\": \"moviesdatabase.p.rapidapi.com\"\n",
    "}\n",
    "\n",
    "response = requests.get(url_drama, headers=headers, params=querystring)\n",
    "\n",
    "json_drama = response.json()\n",
    "print(json_drama)\n",
    "\n",
    "#def llamar_api(url):\t\t\t\n",
    "#\tllamada = request.get(url)\n",
    "#\tprint(f'La llamada a la api nos ha respondido {llamada.status_code}')\n",
    "#\tif llamada.status_code ¡= 200:\n",
    "#\t\tprint(f'El motivo por el que la llamada falló es {llamada.reason}')\n",
    "#\telse:\n",
    "#\t\treturn llamada.json()\n"
   ]
  }
 ],
 "metadata": {
  "kernelspec": {
   "display_name": "base",
   "language": "python",
   "name": "python3"
  },
  "language_info": {
   "codemirror_mode": {
    "name": "ipython",
    "version": 3
   },
   "file_extension": ".py",
   "mimetype": "text/x-python",
   "name": "python",
   "nbconvert_exporter": "python",
   "pygments_lexer": "ipython3",
   "version": "3.9.7"
  }
 },
 "nbformat": 4,
 "nbformat_minor": 2
}
