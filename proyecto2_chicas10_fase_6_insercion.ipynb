{
 "cells": [
  {
   "cell_type": "code",
   "execution_count": null,
   "metadata": {},
   "outputs": [],
   "source": [
    "%pip install mysql-connector-python\n",
    "%pip install mysql-connector\n",
    "\n",
    "import mysql.connector\n",
    "from mysql.connector import errorcode\n",
    "%pip install pymysql\n",
    "import pandas as pd\n",
    "\n",
    "import pymysql\n",
    "import numpy as np "
   ]
  },
  {
   "cell_type": "markdown",
   "metadata": {},
   "source": [
    "____"
   ]
  },
  {
   "cell_type": "markdown",
   "metadata": {},
   "source": [
    "PELICULAS\n"
   ]
  },
  {
   "cell_type": "code",
   "execution_count": null,
   "metadata": {},
   "outputs": [],
   "source": [
    "\n",
    "# Leer los datos del archivo CSV con Pandas\n",
    "df_peli = pd.read_csv(\"peliculas.csv\", index_col=None)\n",
    "\n",
    "# Establecer la conexión con la base de datos MySQL\n",
    "cnx = pymysql.connect(user='root', password='AlumnaAdalab', host='localhost', database='whatflix')\n",
    "mycursor = cnx.cursor()\n",
    "\n",
    "# Convertir el DataFrame a una lista de tuplas\n",
    "data_tuples = [tuple(x) for x in df_peli.to_numpy()]\n",
    "\n",
    "# Definir la consulta SQL\n",
    "sql = \"INSERT INTO peliculas (tipo, titulo, año, mes, id, genero) VALUES (%s, %s, %s, %s, %s, %s)\"\n",
    "\n",
    "try: \n",
    "    # Usar executemany con la lista de tuplas\n",
    "    mycursor.executemany(sql, data_tuples)\n",
    "    cnx.commit()\n",
    "    print(mycursor.rowcount, \"registro/s insertado/s.\")\n",
    "\n",
    "except pymysql.Error as err:\n",
    "    print(err)\n",
    "    print(\"Error Code:\", err.args[0])\n",
    "    print(\"Message\", err.args[1])\n",
    "\n",
    "# Cerrar la conexión\n",
    "cnx.close()\n"
   ]
  },
  {
   "cell_type": "markdown",
   "metadata": {},
   "source": [
    "_______"
   ]
  },
  {
   "cell_type": "markdown",
   "metadata": {},
   "source": [
    "DETALLES ARTISTA"
   ]
  },
  {
   "cell_type": "code",
   "execution_count": null,
   "metadata": {},
   "outputs": [],
   "source": [
    "# Leer los datos del archivo CSV con Pandas\n",
    "df_detall_art = pd.read_csv(\"detalles_artistas.csv\", index_col=None)\n",
    "\n",
    "#creo una lista de actores sin duplicados\n",
    "archivo = \"detalles_artistas.csv\"\n",
    "dataframe = pd.read_csv(archivo)\n",
    "\n",
    "dataframe.head()\n",
    "dataframe.duplicated().sum()\n",
    "dataframe.shape\n",
    "dataframe_sin_duplicados = dataframe.drop_duplicates(subset=['actr'])\n",
    "\n",
    "dataframe_sin_duplicados.shape"
   ]
  },
  {
   "cell_type": "code",
   "execution_count": null,
   "metadata": {},
   "outputs": [],
   "source": [
    "\n",
    "# Establecer la conexión con la base de datos MySQL\n",
    "cnx = pymysql.connect(user='root', password='AlumnaAdalab', host='localhost', database='whatflix')\n",
    "mycursor = cnx.cursor()\n",
    "\n",
    "# Convertir el DataFrame a una lista de tuplas, reemplazando NaN con None\n",
    "dataframe_sin_duplicados = dataframe_sin_duplicados.where(pd.notna(dataframe_sin_duplicados), None)\n",
    "data_tuples = [tuple(x) for x in dataframe_sin_duplicados.to_numpy()]\n"
   ]
  },
  {
   "cell_type": "code",
   "execution_count": null,
   "metadata": {},
   "outputs": [],
   "source": [
    "if not dataframe_sin_duplicados.empty:\n",
    "    # Convertimos el DataFrame a una lista de tuplas\n",
    "    data_tuples = [tuple(x) for x in dataframe_sin_duplicados.to_numpy()]\n",
    "else:\n",
    "    print(\"El DataFrame está vacío.\")\n",
    "\n",
    "# Nos aseguramos de no estar intentando acceder a un índice fuera del rango\n",
    "for row in data_tuples:\n",
    "    print(row[0])  # Asegúrate de que 0 sea un índice válido en todas las tuplas\n"
   ]
  },
  {
   "cell_type": "code",
   "execution_count": null,
   "metadata": {},
   "outputs": [],
   "source": [
    "\n",
    "# Definir la consulta SQL\n",
    "sql = \"INSERT INTO detalles_artistas (artista, año_nacimiento, conocido_por, profesion, premios) VALUES (%s, %s, %s, %s, %s)\"\n",
    "\n",
    "try:\n",
    "    # Usar executemany con la lista de tuplas sin duplicados\n",
    "    mycursor.executemany(sql, data_tuples)\n",
    "    cnx.commit()\n",
    "    print(mycursor.rowcount, \"registro/s insertado/s.\")\n",
    "\n",
    "except pymysql.Error as err:\n",
    "    print(err)\n",
    "    print(\"Error Code:\", err.args[0])\n",
    "    print(\"Message\", err.args[1])\n",
    "\n",
    "# Cerrar la conexión\n",
    "cnx.close()\n"
   ]
  },
  {
   "cell_type": "markdown",
   "metadata": {},
   "source": [
    "______"
   ]
  },
  {
   "cell_type": "markdown",
   "metadata": {},
   "source": [
    "TOMATOMETRO"
   ]
  },
  {
   "cell_type": "code",
   "execution_count": null,
   "metadata": {},
   "outputs": [],
   "source": [
    "# Leer los datos del archivo CSV con Pandas -> añado encoding='latin' por error UnicodeDecodeError: 'utf-8' codec can't decode byte 0xf4 in position 843: invalid continuation byte\n",
    "\n",
    "df_rotten = pd.read_csv(\"tomatometro.csv\", index_col=None, encoding='latin1')\n",
    "\n",
    "\n",
    "# Eliminar duplicados directamente en el DataFrame\n",
    "df_rotten = df_rotten.drop_duplicates()\n",
    "\n",
    "# Para evitar Error Code: nan can not be used with MySQL\n",
    "df_rotten = df_rotten.dropna()\n",
    "\n",
    "# Establecer la conexión con la base de datos MySQL\n",
    "cnx = pymysql.connect(user='root', password='AlumnaAdalab', host='localhost', database='whatflix')\n",
    "mycursor = cnx.cursor()\n",
    "\n",
    "# Convertir el DataFrame a una lista de tuplas\n",
    "data_tuples = [tuple(x) for x in df_rotten.to_numpy()]\n",
    "\n",
    "\n",
    "\n",
    "# Definir la consulta SQL -- ponemos IGNORE si en el drop duplicate no funciona\n",
    "sql = \"INSERT INTO tomatometro (titulo, tomatometro, id) VALUES (%s, %s, %s)\"\n",
    "\n",
    "\n",
    "try:\n",
    "    # Usar executemany con la lista de tuplas sin duplicados\n",
    "    mycursor.executemany(sql, data_tuples)\n",
    "    cnx.commit()\n",
    "    print(mycursor.rowcount, \"registro/s insertado/s.\")\n",
    "\n",
    "except pymysql.Error as err:\n",
    "    print(err)\n",
    "    print(\"Error Code:\", err.args[0])\n",
    "    print(\"Message\", err.args[1])\n",
    "\n",
    "# Cerrar la conexión\n",
    "cnx.close()\n"
   ]
  },
  {
   "cell_type": "markdown",
   "metadata": {},
   "source": [
    "____"
   ]
  },
  {
   "cell_type": "markdown",
   "metadata": {},
   "source": [
    "OSCARS"
   ]
  },
  {
   "cell_type": "code",
   "execution_count": null,
   "metadata": {},
   "outputs": [],
   "source": [
    "# Leer los datos del archivo CSV con Pandas\n",
    "df_oscars = pd.read_csv(\"oscars.csv\", index_col=0)\n",
    "df_oscars\n",
    "\n",
    "# Establecer la conexión con la base de datos MySQL\n",
    "cnx = pymysql.connect(user='root', password='AlumnaAdalab', host='localhost', database='whatflix')\n",
    "mycursor = cnx.cursor()\n",
    "\n",
    "# Convertir el DataFrame a una lista de tuplas\n",
    "data_tuples = [tuple(x) for x in df_oscars.to_numpy()]\n",
    "\n",
    "# Definir la consulta SQL\n",
    "sql = \"INSERT INTO oscars (año_ceremonia, mejor_pelicula, mejor_director, mejor_actor, mejor_actriz) VALUES (%s, %s, %s, %s, %s)\"\n",
    "\n",
    "try: \n",
    "    # Usar executemany con la lista de tuplas\n",
    "    mycursor.executemany(sql, data_tuples)\n",
    "    cnx.commit()\n",
    "    print(mycursor.rowcount, \"registro/s insertado/s.\")\n",
    "\n",
    "except pymysql.Error as err:\n",
    "    print(err)\n",
    "    print(\"Error Code:\", err.args[0])\n",
    "    print(\"Message\", err.args[1])\n",
    "\n",
    "# Cerrar la conexión\n",
    "cnx.close()\n"
   ]
  },
  {
   "cell_type": "markdown",
   "metadata": {},
   "source": [
    "_____"
   ]
  },
  {
   "cell_type": "markdown",
   "metadata": {},
   "source": [
    "DETALLES PELICULAS"
   ]
  },
  {
   "cell_type": "code",
   "execution_count": null,
   "metadata": {},
   "outputs": [],
   "source": [
    "\n",
    "# Leer los datos del archivo CSV con Pandas\n",
    "df_detall_peli = pd.read_csv(\"detalles_peliculas.csv\", index_col=None)\n",
    "\n",
    "# Establecer la conexión con la base de datos MySQL\n",
    "cnx = pymysql.connect(user='root', password='AlumnaAdalab', host='localhost', database='whatflix_prueba')\n",
    "mycursor = cnx.cursor()\n",
    "\n",
    "# Convertir el DataFrame a una lista de tuplas\n",
    "data_tuples = [tuple(x) for x in df_detall_peli.to_numpy()]\n",
    "\n",
    "# Definir la consulta SQL\n",
    "sql = \"INSERT INTO detalles_peliculas (titulo, calificacion_imdb, director, guionista, argumento, duracion, id) VALUES (%s, %s, %s, %s, %s, %s, %s)\"\n",
    "\n",
    "try: \n",
    "    # Usar executemany con la lista de tuplas\n",
    "    mycursor.executemany(sql, data_tuples)\n",
    "    cnx.commit()\n",
    "    print(mycursor.rowcount, \"registro/s insertado/s.\")\n",
    "\n",
    "except pymysql.Error as err:\n",
    "    print(err)\n",
    "    print(\"Error Code:\", err.args[0])\n",
    "    print(\"Message\", err.args[1])\n",
    "\n",
    "# Cerrar la conexión\n",
    "cnx.close()\n"
   ]
  },
  {
   "cell_type": "markdown",
   "metadata": {},
   "source": [
    "_____"
   ]
  },
  {
   "cell_type": "markdown",
   "metadata": {},
   "source": [
    "PELICULA ARTISTAS"
   ]
  },
  {
   "cell_type": "code",
   "execution_count": null,
   "metadata": {},
   "outputs": [],
   "source": [
    "\n",
    "# Leer los datos del archivo CSV con Pandas\n",
    "df_peli_art = pd.read_csv(\"pelicula_artista.csv\", index_col=None)\n",
    "\n",
    "# Establecer la conexión con la base de datos MySQL\n",
    "cnx = pymysql.connect(user='root', password='AlumnaAdalab', host='localhost', database='whatflix_prueba')\n",
    "mycursor = cnx.cursor()\n",
    "\n",
    "# Convertir el DataFrame a una lista de tuplas\n",
    "data_tuples = [tuple(x) for x in df_peli_art.to_numpy()]\n",
    "\n",
    "# Definir la consulta SQL\n",
    "sql = \"INSERT INTO pelicula_artista (id, artista) VALUES (%s, %s)\"\n",
    "\n",
    "try: \n",
    "    # Usar executemany con la lista de tuplas\n",
    "    mycursor.executemany(sql, data_tuples)\n",
    "    cnx.commit()\n",
    "    print(mycursor.rowcount, \"registro/s insertado/s.\")\n",
    "\n",
    "except pymysql.Error as err:\n",
    "    print(err)\n",
    "    print(\"Error Code:\", err.args[0])\n",
    "    print(\"Message\", err.args[1])\n",
    "\n",
    "# Cerrar la conexión\n",
    "cnx.close()\n"
   ]
  }
 ],
 "metadata": {
  "kernelspec": {
   "display_name": "base",
   "language": "python",
   "name": "python3"
  },
  "language_info": {
   "codemirror_mode": {
    "name": "ipython",
    "version": 3
   },
   "file_extension": ".py",
   "mimetype": "text/x-python",
   "name": "python",
   "nbconvert_exporter": "python",
   "pygments_lexer": "ipython3",
   "version": "3.9.7"
  }
 },
 "nbformat": 4,
 "nbformat_minor": 2
}
