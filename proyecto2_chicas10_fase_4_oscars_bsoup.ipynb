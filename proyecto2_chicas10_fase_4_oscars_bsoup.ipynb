{
 "cells": [
  {
   "cell_type": "code",
   "execution_count": null,
   "metadata": {},
   "outputs": [],
   "source": [
    "from bs4 import BeautifulSoup\n",
    "import requests\n",
    "import pandas as pd\n",
    "import re"
   ]
  },
  {
   "cell_type": "code",
   "execution_count": null,
   "metadata": {},
   "outputs": [],
   "source": [
    "# Función que convierte el resultado en CSV\n",
    "\n",
    "\n",
    "def extraer_oscars():\n",
    "\n",
    "    url = 'https://es.wikipedia.org/wiki/Premios_%C3%93scar'\n",
    "    request_url = requests.get(url)\n",
    "\n",
    "    #programación defensiva: nos aseguramos que hace la llamada correctamente\n",
    "    if request_url.status_code != 200:\n",
    "        print(f\"Error al obtener la página. Código de estado: {request_url.status_code}\")\n",
    "        return None\n",
    "\n",
    "     #programación defensiva con try...except\n",
    "    try:\n",
    "        sopa_oscar = BeautifulSoup(request_url.content, 'html.parser')\n",
    "        tabla = sopa_oscar.find_all(\"table\")\n",
    "        tabla_oscar = tabla[2]\n",
    "\n",
    "        filas = tabla_oscar.find_all('tr')[62:95]\n",
    "\n",
    "        dicc_peliculas = {'año': [], 'pelicula': [], 'director': [], 'actor': [], 'actriz': []}\n",
    "\n",
    "        for fila in filas:\n",
    "            celdas = fila.find_all('td')\n",
    "            dicc_peliculas['año'].append(((celdas[1].text)[-5:]).strip())\n",
    "            dicc_peliculas['pelicula'].append(celdas[2].text.strip('\\n').strip())\n",
    "            dicc_peliculas['director'].append(((celdas[3].text)[:celdas[3].text.find('(')]).strip())\n",
    "            dicc_peliculas['actor'].append(((celdas[4].text)[:celdas[4].text.find('(')]).strip())\n",
    "            dicc_peliculas['actriz'].append(((celdas[5].text)[:celdas[5].text.find('(')]).strip())\n",
    "\n",
    "        lista_peliculas = list(zip(dicc_peliculas['año'], dicc_peliculas['pelicula'], dicc_peliculas['director'],\n",
    "                                   dicc_peliculas['actor'], dicc_peliculas['actriz']))\n",
    "\n",
    "        lista_peliculas\n",
    "\n",
    "    except:\n",
    "        print(\"Error al extraer datos\")\n",
    "        return None\n",
    "    \n",
    "    # Se crea un Data Frame con el resultado de la lista de peliculas\n",
    "\n",
    "    df = pd.DataFrame(lista_peliculas, columns = ['año','pelicula','director', 'actor', 'actriz'])\n",
    "    \n",
    "    # Se guardan los resultados a CSV\n",
    "    df.to_csv(\"pelis_oscars.csv\")\n",
    "    return df\n",
    "\n",
    "# Llamada a la función\n",
    "resultado = extraer_oscars()\n",
    "\n",
    "\n"
   ]
  }
 ],
 "metadata": {
  "kernelspec": {
   "display_name": "base",
   "language": "python",
   "name": "python3"
  },
  "language_info": {
   "codemirror_mode": {
    "name": "ipython",
    "version": 3
   },
   "file_extension": ".py",
   "mimetype": "text/x-python",
   "name": "python",
   "nbconvert_exporter": "python",
   "pygments_lexer": "ipython3",
   "version": "3.9.7"
  }
 },
 "nbformat": 4,
 "nbformat_minor": 2
}
